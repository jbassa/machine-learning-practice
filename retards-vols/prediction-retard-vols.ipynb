{
 "cells": [
  {
   "cell_type": "markdown",
   "metadata": {},
   "source": [
    "Copyright (c) 2020 Joel BASSA\n",
    "<br/>\n",
    "**Objectif:** ce projet a pour objectif de mettre en oeuvre un modèle d'apprentissage supervisé pour la prédiction des retards à l'arrivée des vols en direction de l'aéroport de **BOS** ."
   ]
  },
  {
   "cell_type": "code",
   "execution_count": 1,
   "metadata": {},
   "outputs": [],
   "source": [
    "%reload_ext autoreload\n",
    "%autoreload 2\n",
    "%matplotlib inline"
   ]
  },
  {
   "cell_type": "markdown",
   "metadata": {},
   "source": [
    "## 0 - Chargement des bibliothèques"
   ]
  },
  {
   "cell_type": "code",
   "execution_count": 2,
   "metadata": {},
   "outputs": [],
   "source": [
    "# Manipulation de données\n",
    "import numpy as np\n",
    "import pandas as pd\n",
    "\n",
    "# Visualisation de données\n",
    "import matplotlib.pyplot as plt\n",
    "import seaborn as sns\n",
    "\n",
    "# Helpers\n",
    "from helpers import polynomial\n",
    "\n",
    "# Outils divers\n",
    "from tqdm import tqdm\n",
    "from collections import defaultdict\n",
    "\n",
    "# Machine Learning\n",
    "\n",
    "from sklearn.linear_model import LinearRegression\n",
    "from sklearn.neighbors import KNeighborsRegressor\n",
    "from sklearn.preprocessing import StandardScaler\n",
    "from sklearn.model_selection import train_test_split\n",
    "from sklearn.model_selection import KFold\n",
    "from sklearn.preprocessing import PolynomialFeatures"
   ]
  },
  {
   "cell_type": "code",
   "execution_count": 3,
   "metadata": {},
   "outputs": [],
   "source": [
    "# Configuration de la visualisation\n",
    "sns.set(style=\"darkgrid\")\n",
    "sns.set_context(\"notebook\", font_scale=1.5, rc={\"lines.linewidth\": 2.5})"
   ]
  },
  {
   "cell_type": "markdown",
   "metadata": {},
   "source": [
    "## 1 - Lecture du jeu de données"
   ]
  },
  {
   "cell_type": "code",
   "execution_count": 4,
   "metadata": {},
   "outputs": [],
   "source": [
    "#Sélection des variables par intuition\n",
    "cols_train = ['dep_delay','arr_delay','distance','wind_dir','wind_speed','week_day','evening_rush_hour','precip_indic']\n",
    "cols_test = cols_train.copy()\n",
    "cols_test.remove('arr_delay')\n",
    "\n",
    "BOS_TRAIN = pd.read_csv('data/BOS_train.csv', usecols=cols_train)\n",
    "BOS_TEST = pd.read_csv('data/BOS_test.csv', index_col=[0])\n",
    "BOS_TEST = BOS_TEST[cols_test]"
   ]
  },
  {
   "cell_type": "markdown",
   "metadata": {},
   "source": [
    "<strong style=\"color: #4a86e8\">Quelques lignes de notre jeu de données</strong>"
   ]
  },
  {
   "cell_type": "code",
   "execution_count": 5,
   "metadata": {},
   "outputs": [
    {
     "data": {
      "text/html": [
       "<div>\n",
       "<style scoped>\n",
       "    .dataframe tbody tr th:only-of-type {\n",
       "        vertical-align: middle;\n",
       "    }\n",
       "\n",
       "    .dataframe tbody tr th {\n",
       "        vertical-align: top;\n",
       "    }\n",
       "\n",
       "    .dataframe thead th {\n",
       "        text-align: right;\n",
       "    }\n",
       "</style>\n",
       "<table border=\"1\" class=\"dataframe\">\n",
       "  <thead>\n",
       "    <tr style=\"text-align: right;\">\n",
       "      <th></th>\n",
       "      <th>dep_delay</th>\n",
       "      <th>arr_delay</th>\n",
       "      <th>distance</th>\n",
       "      <th>wind_dir</th>\n",
       "      <th>wind_speed</th>\n",
       "      <th>week_day</th>\n",
       "      <th>evening_rush_hour</th>\n",
       "      <th>precip_indic</th>\n",
       "    </tr>\n",
       "  </thead>\n",
       "  <tbody>\n",
       "    <tr>\n",
       "      <th>0</th>\n",
       "      <td>1</td>\n",
       "      <td>-20</td>\n",
       "      <td>200</td>\n",
       "      <td>140</td>\n",
       "      <td>4.60312</td>\n",
       "      <td>Monday</td>\n",
       "      <td>False</td>\n",
       "      <td>False</td>\n",
       "    </tr>\n",
       "    <tr>\n",
       "      <th>1</th>\n",
       "      <td>60</td>\n",
       "      <td>121</td>\n",
       "      <td>200</td>\n",
       "      <td>140</td>\n",
       "      <td>6.90468</td>\n",
       "      <td>Monday</td>\n",
       "      <td>False</td>\n",
       "      <td>False</td>\n",
       "    </tr>\n",
       "    <tr>\n",
       "      <th>2</th>\n",
       "      <td>-10</td>\n",
       "      <td>-8</td>\n",
       "      <td>200</td>\n",
       "      <td>140</td>\n",
       "      <td>6.90468</td>\n",
       "      <td>Monday</td>\n",
       "      <td>False</td>\n",
       "      <td>False</td>\n",
       "    </tr>\n",
       "    <tr>\n",
       "      <th>3</th>\n",
       "      <td>9</td>\n",
       "      <td>-2</td>\n",
       "      <td>200</td>\n",
       "      <td>150</td>\n",
       "      <td>3.45234</td>\n",
       "      <td>Monday</td>\n",
       "      <td>False</td>\n",
       "      <td>False</td>\n",
       "    </tr>\n",
       "    <tr>\n",
       "      <th>4</th>\n",
       "      <td>6</td>\n",
       "      <td>0</td>\n",
       "      <td>200</td>\n",
       "      <td>110</td>\n",
       "      <td>8.05546</td>\n",
       "      <td>Monday</td>\n",
       "      <td>False</td>\n",
       "      <td>True</td>\n",
       "    </tr>\n",
       "  </tbody>\n",
       "</table>\n",
       "</div>"
      ],
      "text/plain": [
       "   dep_delay  arr_delay  distance  wind_dir  wind_speed week_day  \\\n",
       "0          1        -20       200       140     4.60312   Monday   \n",
       "1         60        121       200       140     6.90468   Monday   \n",
       "2        -10         -8       200       140     6.90468   Monday   \n",
       "3          9         -2       200       150     3.45234   Monday   \n",
       "4          6          0       200       110     8.05546   Monday   \n",
       "\n",
       "   evening_rush_hour  precip_indic  \n",
       "0              False         False  \n",
       "1              False         False  \n",
       "2              False         False  \n",
       "3              False         False  \n",
       "4              False          True  "
      ]
     },
     "execution_count": 5,
     "metadata": {},
     "output_type": "execute_result"
    }
   ],
   "source": [
    "BOS_TRAIN.head()"
   ]
  },
  {
   "cell_type": "code",
   "execution_count": 6,
   "metadata": {},
   "outputs": [
    {
     "data": {
      "text/html": [
       "<div>\n",
       "<style scoped>\n",
       "    .dataframe tbody tr th:only-of-type {\n",
       "        vertical-align: middle;\n",
       "    }\n",
       "\n",
       "    .dataframe tbody tr th {\n",
       "        vertical-align: top;\n",
       "    }\n",
       "\n",
       "    .dataframe thead th {\n",
       "        text-align: right;\n",
       "    }\n",
       "</style>\n",
       "<table border=\"1\" class=\"dataframe\">\n",
       "  <thead>\n",
       "    <tr style=\"text-align: right;\">\n",
       "      <th></th>\n",
       "      <th>dep_delay</th>\n",
       "      <th>distance</th>\n",
       "      <th>wind_dir</th>\n",
       "      <th>wind_speed</th>\n",
       "      <th>week_day</th>\n",
       "      <th>evening_rush_hour</th>\n",
       "      <th>precip_indic</th>\n",
       "    </tr>\n",
       "  </thead>\n",
       "  <tbody>\n",
       "    <tr>\n",
       "      <th>1345</th>\n",
       "      <td>-11</td>\n",
       "      <td>184</td>\n",
       "      <td>270</td>\n",
       "      <td>11.50780</td>\n",
       "      <td>Monday</td>\n",
       "      <td>False</td>\n",
       "      <td>False</td>\n",
       "    </tr>\n",
       "    <tr>\n",
       "      <th>118</th>\n",
       "      <td>198</td>\n",
       "      <td>200</td>\n",
       "      <td>240</td>\n",
       "      <td>12.65858</td>\n",
       "      <td>Monday</td>\n",
       "      <td>False</td>\n",
       "      <td>False</td>\n",
       "    </tr>\n",
       "    <tr>\n",
       "      <th>1212</th>\n",
       "      <td>9</td>\n",
       "      <td>184</td>\n",
       "      <td>300</td>\n",
       "      <td>5.75390</td>\n",
       "      <td>Thursday</td>\n",
       "      <td>True</td>\n",
       "      <td>False</td>\n",
       "    </tr>\n",
       "    <tr>\n",
       "      <th>409</th>\n",
       "      <td>-4</td>\n",
       "      <td>200</td>\n",
       "      <td>230</td>\n",
       "      <td>5.75390</td>\n",
       "      <td>Saturday</td>\n",
       "      <td>False</td>\n",
       "      <td>False</td>\n",
       "    </tr>\n",
       "    <tr>\n",
       "      <th>284</th>\n",
       "      <td>8</td>\n",
       "      <td>200</td>\n",
       "      <td>240</td>\n",
       "      <td>10.35702</td>\n",
       "      <td>Friday</td>\n",
       "      <td>False</td>\n",
       "      <td>False</td>\n",
       "    </tr>\n",
       "  </tbody>\n",
       "</table>\n",
       "</div>"
      ],
      "text/plain": [
       "      dep_delay  distance  wind_dir  wind_speed  week_day  evening_rush_hour  \\\n",
       "1345        -11       184       270    11.50780    Monday              False   \n",
       "118         198       200       240    12.65858    Monday              False   \n",
       "1212          9       184       300     5.75390  Thursday               True   \n",
       "409          -4       200       230     5.75390  Saturday              False   \n",
       "284           8       200       240    10.35702    Friday              False   \n",
       "\n",
       "      precip_indic  \n",
       "1345         False  \n",
       "118          False  \n",
       "1212         False  \n",
       "409          False  \n",
       "284          False  "
      ]
     },
     "execution_count": 6,
     "metadata": {},
     "output_type": "execute_result"
    }
   ],
   "source": [
    "BOS_TEST.head()"
   ]
  },
  {
   "cell_type": "code",
   "execution_count": 7,
   "metadata": {},
   "outputs": [
    {
     "name": "stdout",
     "output_type": "stream",
     "text": [
      "(824, 8)\n",
      "(205, 7)\n"
     ]
    }
   ],
   "source": [
    "print(BOS_TRAIN.shape)\n",
    "print(BOS_TEST.shape)"
   ]
  },
  {
   "cell_type": "markdown",
   "metadata": {},
   "source": [
    "## 2 - Visualisation des données"
   ]
  },
  {
   "cell_type": "markdown",
   "metadata": {},
   "source": [
    "Quelques visualisations afin de comprendre la rélation entre certaines variables et le rétard à l'arrivée."
   ]
  },
  {
   "cell_type": "code",
   "execution_count": 8,
   "metadata": {},
   "outputs": [
    {
     "data": {
      "image/png": "[encoded data removed]",
      "text/plain": [
       "<Figure size 432x288 with 1 Axes>"
      ]
     },
     "metadata": {},
     "output_type": "display_data"
    }
   ],
   "source": [
    "ax = sns.barplot(x=\"week_day\", y=\"arr_delay\", data=BOS_TRAIN, palette=\"husl\", ci=None)"
   ]
  },
  {
   "cell_type": "markdown",
   "metadata": {},
   "source": [
    "## 3 - Préparation de données"
   ]
  },
  {
   "cell_type": "markdown",
   "metadata": {},
   "source": [
    "<strong style=\"color: #4a86e8\">Valeurs nulles dans le jeu de données?</strong>"
   ]
  },
  {
   "cell_type": "code",
   "execution_count": 9,
   "metadata": {},
   "outputs": [
    {
     "name": "stdout",
     "output_type": "stream",
     "text": [
      "False\n",
      "False\n"
     ]
    }
   ],
   "source": [
    "print(BOS_TRAIN.isnull().values.any())\n",
    "print(BOS_TEST.isnull().values.any())"
   ]
  },
  {
   "cell_type": "markdown",
   "metadata": {},
   "source": [
    "<strong style=\"color: #4a86e8\">Type des variables</strong>"
   ]
  },
  {
   "cell_type": "code",
   "execution_count": 10,
   "metadata": {},
   "outputs": [
    {
     "name": "stdout",
     "output_type": "stream",
     "text": [
      "<class 'pandas.core.frame.DataFrame'>\n",
      "RangeIndex: 824 entries, 0 to 823\n",
      "Data columns (total 8 columns):\n",
      "dep_delay            824 non-null int64\n",
      "arr_delay            824 non-null int64\n",
      "distance             824 non-null int64\n",
      "wind_dir             824 non-null int64\n",
      "wind_speed           824 non-null float64\n",
      "week_day             824 non-null object\n",
      "evening_rush_hour    824 non-null bool\n",
      "precip_indic         824 non-null bool\n",
      "dtypes: bool(2), float64(1), int64(4), object(1)\n",
      "memory usage: 40.4+ KB\n"
     ]
    }
   ],
   "source": [
    "BOS_TRAIN.info()"
   ]
  },
  {
   "cell_type": "code",
   "execution_count": 11,
   "metadata": {},
   "outputs": [
    {
     "name": "stdout",
     "output_type": "stream",
     "text": [
      "<class 'pandas.core.frame.DataFrame'>\n",
      "Int64Index: 205 entries, 1345 to 448\n",
      "Data columns (total 7 columns):\n",
      "dep_delay            205 non-null int64\n",
      "distance             205 non-null int64\n",
      "wind_dir             205 non-null int64\n",
      "wind_speed           205 non-null float64\n",
      "week_day             205 non-null object\n",
      "evening_rush_hour    205 non-null bool\n",
      "precip_indic         205 non-null bool\n",
      "dtypes: bool(2), float64(1), int64(3), object(1)\n",
      "memory usage: 10.0+ KB\n"
     ]
    }
   ],
   "source": [
    "BOS_TEST.info()"
   ]
  },
  {
   "cell_type": "markdown",
   "metadata": {},
   "source": [
    "Etant donné la présence de variables qualitatives, nous allons appliquer des transformations afin de les rendre quantitatives."
   ]
  },
  {
   "cell_type": "code",
   "execution_count": 12,
   "metadata": {},
   "outputs": [],
   "source": [
    "#Encodage binaire\n",
    "BOS_TRAIN.evening_rush_hour = BOS_TRAIN['evening_rush_hour'].astype(int)\n",
    "BOS_TEST.evening_rush_hour = BOS_TEST['evening_rush_hour'].astype(int)\n",
    "\n",
    "BOS_TRAIN.precip_indic = BOS_TRAIN['precip_indic'].astype(int)\n",
    "BOS_TEST.precip_indic = BOS_TEST['precip_indic'].astype(int)\n",
    "\n",
    "#Encodage ordonné\n",
    "days = {'Monday':1, 'Tuesday':2, 'Wednesday':3, 'Thursday':4 , 'Friday':5, 'Saturday':6, 'Sunday':7}\n",
    "BOS_TRAIN['week_day'] = BOS_TRAIN['week_day'].apply(lambda x: days[x] if x in days else x)\n",
    "BOS_TEST['week_day'] = BOS_TEST['week_day'].apply(lambda x: days[x] if x in days else x)\n"
   ]
  },
  {
   "cell_type": "markdown",
   "metadata": {},
   "source": [
    "<strong style=\"color: #4a86e8\">Mise à l'échelle</strong>"
   ]
  },
  {
   "cell_type": "markdown",
   "metadata": {},
   "source": [
    "Afin de faciliter les calculs pour les algorithmes , nous allons faire une mise à l'échelle de certaines de nos variables"
   ]
  },
  {
   "cell_type": "code",
   "execution_count": 13,
   "metadata": {},
   "outputs": [],
   "source": [
    "BOS_TRAIN.wind_speed = BOS_TRAIN.wind_speed / 100\n",
    "BOS_TEST.wind_speed = BOS_TEST.wind_speed / 100\n",
    "BOS_TRAIN.distance = BOS_TRAIN.distance / 100\n",
    "BOS_TEST.distance = BOS_TEST.distance / 100"
   ]
  },
  {
   "cell_type": "markdown",
   "metadata": {},
   "source": [
    "Il faudrait vérifier si les transformations ont éte bien effectuées"
   ]
  },
  {
   "cell_type": "code",
   "execution_count": 14,
   "metadata": {},
   "outputs": [
    {
     "name": "stdout",
     "output_type": "stream",
     "text": [
      "<class 'pandas.core.frame.DataFrame'>\n",
      "RangeIndex: 824 entries, 0 to 823\n",
      "Data columns (total 8 columns):\n",
      "dep_delay            824 non-null int64\n",
      "arr_delay            824 non-null int64\n",
      "distance             824 non-null float64\n",
      "wind_dir             824 non-null int64\n",
      "wind_speed           824 non-null float64\n",
      "week_day             824 non-null int64\n",
      "evening_rush_hour    824 non-null int64\n",
      "precip_indic         824 non-null int64\n",
      "dtypes: float64(2), int64(6)\n",
      "memory usage: 51.6 KB\n"
     ]
    }
   ],
   "source": [
    "BOS_TRAIN.info()"
   ]
  },
  {
   "cell_type": "code",
   "execution_count": 15,
   "metadata": {},
   "outputs": [
    {
     "data": {
      "text/html": [
       "<div>\n",
       "<style scoped>\n",
       "    .dataframe tbody tr th:only-of-type {\n",
       "        vertical-align: middle;\n",
       "    }\n",
       "\n",
       "    .dataframe tbody tr th {\n",
       "        vertical-align: top;\n",
       "    }\n",
       "\n",
       "    .dataframe thead th {\n",
       "        text-align: right;\n",
       "    }\n",
       "</style>\n",
       "<table border=\"1\" class=\"dataframe\">\n",
       "  <thead>\n",
       "    <tr style=\"text-align: right;\">\n",
       "      <th></th>\n",
       "      <th>dep_delay</th>\n",
       "      <th>arr_delay</th>\n",
       "      <th>distance</th>\n",
       "      <th>wind_dir</th>\n",
       "      <th>wind_speed</th>\n",
       "      <th>week_day</th>\n",
       "      <th>evening_rush_hour</th>\n",
       "      <th>precip_indic</th>\n",
       "    </tr>\n",
       "  </thead>\n",
       "  <tbody>\n",
       "    <tr>\n",
       "      <th>0</th>\n",
       "      <td>1</td>\n",
       "      <td>-20</td>\n",
       "      <td>2.0</td>\n",
       "      <td>140</td>\n",
       "      <td>0.046031</td>\n",
       "      <td>1</td>\n",
       "      <td>0</td>\n",
       "      <td>0</td>\n",
       "    </tr>\n",
       "    <tr>\n",
       "      <th>1</th>\n",
       "      <td>60</td>\n",
       "      <td>121</td>\n",
       "      <td>2.0</td>\n",
       "      <td>140</td>\n",
       "      <td>0.069047</td>\n",
       "      <td>1</td>\n",
       "      <td>0</td>\n",
       "      <td>0</td>\n",
       "    </tr>\n",
       "    <tr>\n",
       "      <th>2</th>\n",
       "      <td>-10</td>\n",
       "      <td>-8</td>\n",
       "      <td>2.0</td>\n",
       "      <td>140</td>\n",
       "      <td>0.069047</td>\n",
       "      <td>1</td>\n",
       "      <td>0</td>\n",
       "      <td>0</td>\n",
       "    </tr>\n",
       "    <tr>\n",
       "      <th>3</th>\n",
       "      <td>9</td>\n",
       "      <td>-2</td>\n",
       "      <td>2.0</td>\n",
       "      <td>150</td>\n",
       "      <td>0.034523</td>\n",
       "      <td>1</td>\n",
       "      <td>0</td>\n",
       "      <td>0</td>\n",
       "    </tr>\n",
       "    <tr>\n",
       "      <th>4</th>\n",
       "      <td>6</td>\n",
       "      <td>0</td>\n",
       "      <td>2.0</td>\n",
       "      <td>110</td>\n",
       "      <td>0.080555</td>\n",
       "      <td>1</td>\n",
       "      <td>0</td>\n",
       "      <td>1</td>\n",
       "    </tr>\n",
       "  </tbody>\n",
       "</table>\n",
       "</div>"
      ],
      "text/plain": [
       "   dep_delay  arr_delay  distance  wind_dir  wind_speed  week_day  \\\n",
       "0          1        -20       2.0       140    0.046031         1   \n",
       "1         60        121       2.0       140    0.069047         1   \n",
       "2        -10         -8       2.0       140    0.069047         1   \n",
       "3          9         -2       2.0       150    0.034523         1   \n",
       "4          6          0       2.0       110    0.080555         1   \n",
       "\n",
       "   evening_rush_hour  precip_indic  \n",
       "0                  0             0  \n",
       "1                  0             0  \n",
       "2                  0             0  \n",
       "3                  0             0  \n",
       "4                  0             1  "
      ]
     },
     "execution_count": 15,
     "metadata": {},
     "output_type": "execute_result"
    }
   ],
   "source": [
    "BOS_TRAIN.head()"
   ]
  },
  {
   "cell_type": "markdown",
   "metadata": {},
   "source": [
    "## 4 - Entrainement"
   ]
  },
  {
   "cell_type": "markdown",
   "metadata": {},
   "source": [
    "Pour le jeu d'entrainement , nous allons séparer les prédicteurs de la variable réponse"
   ]
  },
  {
   "cell_type": "code",
   "execution_count": 16,
   "metadata": {},
   "outputs": [
    {
     "name": "stdout",
     "output_type": "stream",
     "text": [
      "(824, 7)\n",
      "(824, 1)\n"
     ]
    }
   ],
   "source": [
    "X = BOS_TRAIN[cols_test].values\n",
    "y = BOS_TRAIN['arr_delay'].values.reshape(-1,1)\n",
    "print(X.shape)\n",
    "print(y.shape)"
   ]
  },
  {
   "cell_type": "markdown",
   "metadata": {},
   "source": [
    "<strong style=\"color: #4a86e8\">Séparons les données en jeu d'entraînement et jeu de test. La taille du jeu de test doit représenter 30% de la taille du jeu de données et l'état du générateur aléatoire sera fixé à 2020 afin de permettre la reproductibilité</strong>"
   ]
  },
  {
   "cell_type": "code",
   "execution_count": 17,
   "metadata": {},
   "outputs": [],
   "source": [
    "X_train, X_test, y_train, y_test = train_test_split(X, y, test_size=0.30, random_state=2020)"
   ]
  },
  {
   "cell_type": "markdown",
   "metadata": {},
   "source": [
    "### Tentons une régression linéaire d'ordre 1 seulement"
   ]
  },
  {
   "cell_type": "markdown",
   "metadata": {},
   "source": [
    "Instanciation de `scaler` pour la standardisation des données"
   ]
  },
  {
   "cell_type": "code",
   "execution_count": 18,
   "metadata": {},
   "outputs": [],
   "source": [
    "scaler = StandardScaler()"
   ]
  },
  {
   "cell_type": "code",
   "execution_count": 19,
   "metadata": {},
   "outputs": [
    {
     "name": "stdout",
     "output_type": "stream",
     "text": [
      "RSquared de validation = 0.8960981570054086\n",
      "Rsquared d'entraînement = 0.9018482199147932\n"
     ]
    }
   ],
   "source": [
    "# Pseudo code:\n",
    "# ------------\n",
    "#\n",
    "# Instancier KFold (sklearn)\n",
    "#\n",
    "# Standardiser X\n",
    "#\n",
    "# Itérer sur les k plis:\n",
    "#     Effectuer la régression sur le plis courant (jeu d'entraînement)\n",
    "#     Évaluer les performances sur le jeu de validation\n",
    "\n",
    "history = defaultdict(list)\n",
    "\n",
    "kf = KFold(n_splits = 5)\n",
    "\n",
    "# Standardisation\n",
    "scaler.fit(X_train)\n",
    "X_train_scaled = scaler.transform(X_train)\n",
    "\n",
    "for train_index, val_index in kf.split(X_train_scaled):\n",
    "    # Préparation des plis\n",
    "    x_cv_train, x_cv_val = X_train_scaled[train_index,:], X_train_scaled[val_index,:]\n",
    "    y_cv_train, y_cv_val = y_train[train_index], y_train[val_index]\n",
    "    \n",
    "    # Régression linéaire\n",
    "    reg = LinearRegression().fit(x_cv_train, y_cv_train)\n",
    "    \n",
    "    # Record performances par plis\n",
    "    history['train'].append(reg.score(x_cv_train, y_cv_train))\n",
    "    history['val'].append(reg.score(x_cv_val, y_cv_val))\n",
    "        \n",
    "print(f\"RSquared de validation = {np.mean(history['val'])}\")\n",
    "print(f\"Rsquared d'entraînement = {np.mean(history['train'])}\")"
   ]
  },
  {
   "cell_type": "markdown",
   "metadata": {},
   "source": [
    "### Entrainement du  modèle (Régression linéaire)"
   ]
  },
  {
   "cell_type": "markdown",
   "metadata": {},
   "source": [
    "Réentrainons le modèle de régression sur l'ensemble des données d'entraînement"
   ]
  },
  {
   "cell_type": "code",
   "execution_count": 20,
   "metadata": {},
   "outputs": [
    {
     "data": {
      "text/plain": [
       "(576, 7)"
      ]
     },
     "execution_count": 20,
     "metadata": {},
     "output_type": "execute_result"
    }
   ],
   "source": [
    "# Standardisation\n",
    "scaler.fit(X_train)\n",
    "X_train_scaled = scaler.transform(X_train)\n",
    "\n",
    "reg_best = LinearRegression().fit(X_train_scaled, y_train)\n",
    "X_train_scaled.shape"
   ]
  },
  {
   "cell_type": "markdown",
   "metadata": {},
   "source": [
    "### Performances du modèle (Régression linéaire) sur le jeu de test"
   ]
  },
  {
   "cell_type": "code",
   "execution_count": 21,
   "metadata": {},
   "outputs": [],
   "source": [
    "# Standardisation\n",
    "scaler.fit(X_test)\n",
    "X_test_scaled = scaler.transform(X_test)"
   ]
  },
  {
   "cell_type": "code",
   "execution_count": 22,
   "metadata": {},
   "outputs": [
    {
     "data": {
      "text/plain": [
       "0.887615638049632"
      ]
     },
     "execution_count": 22,
     "metadata": {},
     "output_type": "execute_result"
    }
   ],
   "source": [
    "reg_best.score(X_test_scaled, y_test)"
   ]
  },
  {
   "cell_type": "markdown",
   "metadata": {},
   "source": [
    "### Effectuons une validation croisée à 5 plis sur une régression KNN en faisant varier le nombre de voisins de 1 à 20"
   ]
  },
  {
   "cell_type": "code",
   "execution_count": 23,
   "metadata": {},
   "outputs": [],
   "source": [
    "def KNeighborsRegressorCV(k):\n",
    "    history = defaultdict(list)\n",
    "    \n",
    "    kf = KFold(n_splits=5)\n",
    "\n",
    "    for train_index, val_index in kf.split(X_train):\n",
    "        x_cv_train, x_cv_val = X_train[train_index,:], X_train[val_index,:]\n",
    "        y_cv_train, y_cv_val = y_train[train_index], y_train[val_index]\n",
    "\n",
    "        # Regression KNN\n",
    "        neigh = KNeighborsRegressor(n_neighbors=k).fit(x_cv_train, y_cv_train)\n",
    "    \n",
    "        # Record performances par plis\n",
    "        history['train'].append(neigh.score(x_cv_train, y_cv_train))\n",
    "        history['val'].append(neigh.score(x_cv_val, y_cv_val))\n",
    "        \n",
    "    return np.mean(history['train']), np.mean(history['val'])\n",
    "\n",
    "    \n",
    "history = defaultdict(list)\n",
    "for k in range(1, 20):\n",
    "    t, v = KNeighborsRegressorCV(k)\n",
    "    history['train'].append(t)\n",
    "    history['val'].append(v)"
   ]
  },
  {
   "cell_type": "markdown",
   "metadata": {},
   "source": [
    "### Choix du meilleur modèle en fonction des performances sur les plis de validation"
   ]
  },
  {
   "cell_type": "code",
   "execution_count": 24,
   "metadata": {},
   "outputs": [
    {
     "data": {
      "text/plain": [
       "<matplotlib.legend.Legend at 0x7fa56c232400>"
      ]
     },
     "execution_count": 24,
     "metadata": {},
     "output_type": "execute_result"
    },
    {
     "data": {
      "image/png": "[encoded data removed]",
      "text/plain": [
       "<Figure size 432x288 with 1 Axes>"
      ]
     },
     "metadata": {},
     "output_type": "display_data"
    }
   ],
   "source": [
    "f, ax = plt.subplots(1,1)\n",
    "ax.plot(range(1, 20), history['train'], label=\"train\")\n",
    "ax.plot(range(1, 20), history['val'], label=\"test\")\n",
    "ax.set_xlabel('k', fontsize=14)\n",
    "ax.set_ylabel('RSquared', fontsize=14)\n",
    "ax.legend()"
   ]
  },
  {
   "cell_type": "markdown",
   "metadata": {},
   "source": [
    "### Entrainement du meilleur modèle (KNN)"
   ]
  },
  {
   "cell_type": "markdown",
   "metadata": {},
   "source": [
    "Réentrainons le modèle de régression sur l'ensemble des données d'entraînement"
   ]
  },
  {
   "cell_type": "code",
   "execution_count": 25,
   "metadata": {},
   "outputs": [],
   "source": [
    "neigh_best = KNeighborsRegressor(n_neighbors=10).fit(X_train, y_train)"
   ]
  },
  {
   "cell_type": "markdown",
   "metadata": {},
   "source": [
    "### Performances du meilleur modèle (KNN)"
   ]
  },
  {
   "cell_type": "code",
   "execution_count": 26,
   "metadata": {},
   "outputs": [
    {
     "data": {
      "text/plain": [
       "0.8446334498458044"
      ]
     },
     "execution_count": 26,
     "metadata": {},
     "output_type": "execute_result"
    }
   ],
   "source": [
    "neigh_best.score(X_test, y_test)"
   ]
  },
  {
   "cell_type": "markdown",
   "metadata": {},
   "source": [
    "Après la mise en oeuvre de ces deux modèles (régression linéaire et KNN), la performance du modèle de regression semble mieux en théorie. Cependant nous irons de l'avant avec le KNN qui est un modèle plus complexe que la régression linéaire.\n"
   ]
  },
  {
   "cell_type": "markdown",
   "metadata": {},
   "source": [
    "### Performances du meilleur modèle (KNN) sur le jeu de test"
   ]
  },
  {
   "cell_type": "code",
   "execution_count": 27,
   "metadata": {},
   "outputs": [],
   "source": [
    "y_pred_test = neigh_best.predict(BOS_TEST)\n",
    "BOS_TEST['y_pred_test'] = y_pred_test\n",
    "BOS_TEST.to_csv('output.csv', columns=['y_pred_test'])"
   ]
  },
  {
   "cell_type": "markdown",
   "metadata": {},
   "source": [
    "### Fin du projet"
   ]
  }
 ],
 "metadata": {
  "kernelspec": {
   "display_name": "Python 3",
   "language": "python",
   "name": "python3"
  },
  "language_info": {
   "codemirror_mode": {
    "name": "ipython",
    "version": 3
   },
   "file_extension": ".py",
   "mimetype": "text/x-python",
   "name": "python",
   "nbconvert_exporter": "python",
   "pygments_lexer": "ipython3",
   "version": "3.6.9"
  }
 },
 "nbformat": 4,
 "nbformat_minor": 4
}
