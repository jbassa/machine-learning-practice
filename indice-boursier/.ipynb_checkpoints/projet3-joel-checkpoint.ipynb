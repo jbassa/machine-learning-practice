{
 "cells": [
  {
   "cell_type": "markdown",
   "metadata": {},
   "source": [
    "420-A52-SF - Algorithmes d'apprentissage supervisé - Hiver 2020 - Spécialisation technique en Intelligence Artificielle<br/>\n",
    "Joel BASSA\n",
    "<br/>\n",
    "![Projet #3 - TDX](static/project2-banner.png)\n",
    "<br/>"
   ]
  },
  {
   "cell_type": "code",
   "execution_count": 79,
   "metadata": {},
   "outputs": [],
   "source": [
    "%reload_ext autoreload\n",
    "%autoreload 2\n",
    "%matplotlib inline"
   ]
  },
  {
   "cell_type": "markdown",
   "metadata": {},
   "source": [
    "## 0 - Import des bibliothèques"
   ]
  },
  {
   "cell_type": "code",
   "execution_count": 81,
   "metadata": {},
   "outputs": [],
   "source": [
    "from datetime import datetime\n",
    "from tqdm import tqdm\n",
    "from collections import defaultdict\n",
    "\n",
    "import numpy as np\n",
    "import pandas as pd\n",
    "\n",
    "from sklearn.model_selection import cross_val_score\n",
    "from sklearn.metrics import log_loss, f1_score, confusion_matrix, roc_auc_score, roc_curve\n",
    "\n",
    "from sklearn.preprocessing import StandardScaler, PolynomialFeatures, RobustScaler, MinMaxScaler\n",
    "from sklearn.model_selection import train_test_split\n",
    "from sklearn.utils import resample\n",
    "\n",
    "from sklearn.utils.fixes import loguniform\n",
    "from scipy.stats import randint\n",
    "from sklearn.model_selection import RandomizedSearchCV\n",
    "from sklearn.model_selection import GridSearchCV\n",
    "\n",
    "\n",
    "from sklearn.dummy import DummyClassifier\n",
    "from sklearn.linear_model import LogisticRegression\n",
    "from sklearn.neighbors import KNeighborsClassifier\n",
    "from sklearn.tree import DecisionTreeClassifier\n",
    "from sklearn.ensemble import BaggingClassifier\n",
    "from sklearn.ensemble import RandomForestClassifier\n",
    "from sklearn.ensemble import GradientBoostingClassifier\n",
    "from sklearn.svm import SVC\n",
    "\n",
    "import xgboost as xgb\n",
    "\n",
    "from hyperopt import hp, fmin, tpe, space_eval\n",
    "from hyperopt import hp\n",
    "\n",
    "from helpers import plot_confusion_matrix"
   ]
  },
  {
   "cell_type": "code",
   "execution_count": 3,
   "metadata": {},
   "outputs": [],
   "source": [
    "import matplotlib.pyplot as plt\n",
    "import seaborn as sns\n",
    "\n",
    "# Configuration de la visualisation\n",
    "sns.set(style=\"darkgrid\")\n",
    "sns.set_context(\"notebook\", font_scale=1.5, rc={\"lines.linewidth\": 2.5, })\n",
    "sns.set(rc={'figure.figsize':(11.7,8.27)})"
   ]
  },
  {
   "cell_type": "markdown",
   "metadata": {},
   "source": [
    "## 1 - Chargement et exploration sommaire des données"
   ]
  },
  {
   "cell_type": "markdown",
   "metadata": {},
   "source": [
    "<strong>Lecture du fichier `TSX.csv`<strong/>"
   ]
  },
  {
   "cell_type": "code",
   "execution_count": 105,
   "metadata": {},
   "outputs": [],
   "source": [
    "TSX = pd.read_csv('TSX.csv', index_col=0)"
   ]
  },
  {
   "cell_type": "markdown",
   "metadata": {},
   "source": [
    "<strong>Affichage des dix premières lignes de la trame de données TSX</strong>"
   ]
  },
  {
   "cell_type": "code",
   "execution_count": 93,
   "metadata": {},
   "outputs": [
    {
     "data": {
      "text/html": [
       "<div>\n",
       "<style scoped>\n",
       "    .dataframe tbody tr th:only-of-type {\n",
       "        vertical-align: middle;\n",
       "    }\n",
       "\n",
       "    .dataframe tbody tr th {\n",
       "        vertical-align: top;\n",
       "    }\n",
       "\n",
       "    .dataframe thead th {\n",
       "        text-align: right;\n",
       "    }\n",
       "</style>\n",
       "<table border=\"1\" class=\"dataframe\">\n",
       "  <thead>\n",
       "    <tr style=\"text-align: right;\">\n",
       "      <th></th>\n",
       "      <th>tsx</th>\n",
       "      <th>x1</th>\n",
       "      <th>x2</th>\n",
       "      <th>x3</th>\n",
       "      <th>x4</th>\n",
       "      <th>x5</th>\n",
       "      <th>x6</th>\n",
       "      <th>x7</th>\n",
       "      <th>x8</th>\n",
       "      <th>x9</th>\n",
       "      <th>...</th>\n",
       "      <th>x18</th>\n",
       "      <th>x19</th>\n",
       "      <th>x20</th>\n",
       "      <th>x21</th>\n",
       "      <th>x22</th>\n",
       "      <th>x23</th>\n",
       "      <th>x24</th>\n",
       "      <th>x25</th>\n",
       "      <th>x26</th>\n",
       "      <th>x27</th>\n",
       "    </tr>\n",
       "  </thead>\n",
       "  <tbody>\n",
       "    <tr>\n",
       "      <th>0</th>\n",
       "      <td>0.0</td>\n",
       "      <td>0.004025</td>\n",
       "      <td>-0.002421</td>\n",
       "      <td>-0.003893</td>\n",
       "      <td>0.000882</td>\n",
       "      <td>-0.002927</td>\n",
       "      <td>-0.003078</td>\n",
       "      <td>0.000344</td>\n",
       "      <td>-0.003201</td>\n",
       "      <td>-0.005980</td>\n",
       "      <td>...</td>\n",
       "      <td>-0.019445</td>\n",
       "      <td>0.001079</td>\n",
       "      <td>-0.004475</td>\n",
       "      <td>-0.000681</td>\n",
       "      <td>-0.004152</td>\n",
       "      <td>-0.000917</td>\n",
       "      <td>-0.005947</td>\n",
       "      <td>-0.002636</td>\n",
       "      <td>-0.004945</td>\n",
       "      <td>-0.000807</td>\n",
       "    </tr>\n",
       "    <tr>\n",
       "      <th>1</th>\n",
       "      <td>0.0</td>\n",
       "      <td>-0.000174</td>\n",
       "      <td>0.004025</td>\n",
       "      <td>-0.002421</td>\n",
       "      <td>-0.005980</td>\n",
       "      <td>0.000882</td>\n",
       "      <td>-0.002927</td>\n",
       "      <td>-0.005903</td>\n",
       "      <td>0.000344</td>\n",
       "      <td>-0.003201</td>\n",
       "      <td>...</td>\n",
       "      <td>-0.001731</td>\n",
       "      <td>-0.002165</td>\n",
       "      <td>0.001079</td>\n",
       "      <td>-0.004475</td>\n",
       "      <td>-0.001888</td>\n",
       "      <td>-0.004152</td>\n",
       "      <td>-0.000917</td>\n",
       "      <td>-0.015685</td>\n",
       "      <td>-0.002636</td>\n",
       "      <td>-0.004945</td>\n",
       "    </tr>\n",
       "    <tr>\n",
       "      <th>2</th>\n",
       "      <td>0.0</td>\n",
       "      <td>-0.001359</td>\n",
       "      <td>-0.000174</td>\n",
       "      <td>0.004025</td>\n",
       "      <td>0.006746</td>\n",
       "      <td>-0.005980</td>\n",
       "      <td>0.000882</td>\n",
       "      <td>0.006281</td>\n",
       "      <td>-0.005903</td>\n",
       "      <td>0.000344</td>\n",
       "      <td>...</td>\n",
       "      <td>-0.002733</td>\n",
       "      <td>-0.001671</td>\n",
       "      <td>-0.002165</td>\n",
       "      <td>0.001079</td>\n",
       "      <td>0.002962</td>\n",
       "      <td>-0.001888</td>\n",
       "      <td>-0.004152</td>\n",
       "      <td>-0.006410</td>\n",
       "      <td>-0.015685</td>\n",
       "      <td>-0.002636</td>\n",
       "    </tr>\n",
       "    <tr>\n",
       "      <th>3</th>\n",
       "      <td>1.0</td>\n",
       "      <td>-0.003332</td>\n",
       "      <td>-0.001359</td>\n",
       "      <td>-0.000174</td>\n",
       "      <td>0.001295</td>\n",
       "      <td>0.006746</td>\n",
       "      <td>-0.005980</td>\n",
       "      <td>-0.000583</td>\n",
       "      <td>0.006281</td>\n",
       "      <td>-0.005903</td>\n",
       "      <td>...</td>\n",
       "      <td>-0.018851</td>\n",
       "      <td>0.005646</td>\n",
       "      <td>-0.001671</td>\n",
       "      <td>-0.002165</td>\n",
       "      <td>0.014043</td>\n",
       "      <td>0.002962</td>\n",
       "      <td>-0.001888</td>\n",
       "      <td>0.001403</td>\n",
       "      <td>-0.006410</td>\n",
       "      <td>-0.015685</td>\n",
       "    </tr>\n",
       "    <tr>\n",
       "      <th>4</th>\n",
       "      <td>0.0</td>\n",
       "      <td>0.000427</td>\n",
       "      <td>-0.003332</td>\n",
       "      <td>-0.001359</td>\n",
       "      <td>0.004879</td>\n",
       "      <td>0.001295</td>\n",
       "      <td>0.006746</td>\n",
       "      <td>0.004575</td>\n",
       "      <td>-0.000583</td>\n",
       "      <td>0.006281</td>\n",
       "      <td>...</td>\n",
       "      <td>0.009911</td>\n",
       "      <td>0.002728</td>\n",
       "      <td>0.005646</td>\n",
       "      <td>-0.001671</td>\n",
       "      <td>0.000115</td>\n",
       "      <td>0.014043</td>\n",
       "      <td>0.002962</td>\n",
       "      <td>0.003371</td>\n",
       "      <td>0.001403</td>\n",
       "      <td>-0.006410</td>\n",
       "    </tr>\n",
       "    <tr>\n",
       "      <th>5</th>\n",
       "      <td>0.0</td>\n",
       "      <td>-0.013023</td>\n",
       "      <td>0.000427</td>\n",
       "      <td>-0.003332</td>\n",
       "      <td>-0.000477</td>\n",
       "      <td>0.004879</td>\n",
       "      <td>0.001295</td>\n",
       "      <td>-0.003133</td>\n",
       "      <td>0.004575</td>\n",
       "      <td>-0.000583</td>\n",
       "      <td>...</td>\n",
       "      <td>-0.008557</td>\n",
       "      <td>-0.009446</td>\n",
       "      <td>0.002728</td>\n",
       "      <td>0.005646</td>\n",
       "      <td>-0.005087</td>\n",
       "      <td>0.000115</td>\n",
       "      <td>0.014043</td>\n",
       "      <td>-0.012790</td>\n",
       "      <td>0.003371</td>\n",
       "      <td>0.001403</td>\n",
       "    </tr>\n",
       "    <tr>\n",
       "      <th>6</th>\n",
       "      <td>0.0</td>\n",
       "      <td>-0.008975</td>\n",
       "      <td>-0.013023</td>\n",
       "      <td>0.000427</td>\n",
       "      <td>-0.008046</td>\n",
       "      <td>-0.000477</td>\n",
       "      <td>0.004879</td>\n",
       "      <td>-0.008859</td>\n",
       "      <td>-0.003133</td>\n",
       "      <td>0.004575</td>\n",
       "      <td>...</td>\n",
       "      <td>0.005671</td>\n",
       "      <td>-0.009994</td>\n",
       "      <td>-0.009446</td>\n",
       "      <td>0.002728</td>\n",
       "      <td>-0.009023</td>\n",
       "      <td>-0.005087</td>\n",
       "      <td>0.000115</td>\n",
       "      <td>0.001433</td>\n",
       "      <td>-0.012790</td>\n",
       "      <td>0.003371</td>\n",
       "    </tr>\n",
       "    <tr>\n",
       "      <th>7</th>\n",
       "      <td>0.0</td>\n",
       "      <td>-0.000562</td>\n",
       "      <td>-0.008975</td>\n",
       "      <td>-0.013023</td>\n",
       "      <td>0.002009</td>\n",
       "      <td>-0.008046</td>\n",
       "      <td>-0.000477</td>\n",
       "      <td>-0.000647</td>\n",
       "      <td>-0.008859</td>\n",
       "      <td>-0.003133</td>\n",
       "      <td>...</td>\n",
       "      <td>-0.014532</td>\n",
       "      <td>-0.009976</td>\n",
       "      <td>-0.009994</td>\n",
       "      <td>-0.009446</td>\n",
       "      <td>-0.015853</td>\n",
       "      <td>-0.009023</td>\n",
       "      <td>-0.005087</td>\n",
       "      <td>0.001208</td>\n",
       "      <td>0.001433</td>\n",
       "      <td>-0.012790</td>\n",
       "    </tr>\n",
       "    <tr>\n",
       "      <th>8</th>\n",
       "      <td>1.0</td>\n",
       "      <td>-0.015120</td>\n",
       "      <td>-0.000562</td>\n",
       "      <td>-0.008975</td>\n",
       "      <td>-0.016301</td>\n",
       "      <td>0.002009</td>\n",
       "      <td>-0.008046</td>\n",
       "      <td>-0.015123</td>\n",
       "      <td>-0.000647</td>\n",
       "      <td>-0.008859</td>\n",
       "      <td>...</td>\n",
       "      <td>-0.001415</td>\n",
       "      <td>0.001458</td>\n",
       "      <td>-0.009976</td>\n",
       "      <td>-0.009994</td>\n",
       "      <td>-0.002048</td>\n",
       "      <td>-0.015853</td>\n",
       "      <td>-0.009023</td>\n",
       "      <td>-0.012300</td>\n",
       "      <td>0.001208</td>\n",
       "      <td>0.001433</td>\n",
       "    </tr>\n",
       "    <tr>\n",
       "      <th>9</th>\n",
       "      <td>0.0</td>\n",
       "      <td>0.008904</td>\n",
       "      <td>-0.015120</td>\n",
       "      <td>-0.000562</td>\n",
       "      <td>0.008539</td>\n",
       "      <td>-0.016301</td>\n",
       "      <td>0.002009</td>\n",
       "      <td>0.007125</td>\n",
       "      <td>-0.015123</td>\n",
       "      <td>-0.000647</td>\n",
       "      <td>...</td>\n",
       "      <td>-0.006437</td>\n",
       "      <td>-0.000420</td>\n",
       "      <td>0.001458</td>\n",
       "      <td>-0.009976</td>\n",
       "      <td>-0.007153</td>\n",
       "      <td>-0.002048</td>\n",
       "      <td>-0.015853</td>\n",
       "      <td>-0.008880</td>\n",
       "      <td>-0.012300</td>\n",
       "      <td>0.001208</td>\n",
       "    </tr>\n",
       "  </tbody>\n",
       "</table>\n",
       "<p>10 rows × 28 columns</p>\n",
       "</div>"
      ],
      "text/plain": [
       "   tsx        x1        x2        x3        x4        x5        x6        x7  \\\n",
       "0  0.0  0.004025 -0.002421 -0.003893  0.000882 -0.002927 -0.003078  0.000344   \n",
       "1  0.0 -0.000174  0.004025 -0.002421 -0.005980  0.000882 -0.002927 -0.005903   \n",
       "2  0.0 -0.001359 -0.000174  0.004025  0.006746 -0.005980  0.000882  0.006281   \n",
       "3  1.0 -0.003332 -0.001359 -0.000174  0.001295  0.006746 -0.005980 -0.000583   \n",
       "4  0.0  0.000427 -0.003332 -0.001359  0.004879  0.001295  0.006746  0.004575   \n",
       "5  0.0 -0.013023  0.000427 -0.003332 -0.000477  0.004879  0.001295 -0.003133   \n",
       "6  0.0 -0.008975 -0.013023  0.000427 -0.008046 -0.000477  0.004879 -0.008859   \n",
       "7  0.0 -0.000562 -0.008975 -0.013023  0.002009 -0.008046 -0.000477 -0.000647   \n",
       "8  1.0 -0.015120 -0.000562 -0.008975 -0.016301  0.002009 -0.008046 -0.015123   \n",
       "9  0.0  0.008904 -0.015120 -0.000562  0.008539 -0.016301  0.002009  0.007125   \n",
       "\n",
       "         x8        x9  ...       x18       x19       x20       x21       x22  \\\n",
       "0 -0.003201 -0.005980  ... -0.019445  0.001079 -0.004475 -0.000681 -0.004152   \n",
       "1  0.000344 -0.003201  ... -0.001731 -0.002165  0.001079 -0.004475 -0.001888   \n",
       "2 -0.005903  0.000344  ... -0.002733 -0.001671 -0.002165  0.001079  0.002962   \n",
       "3  0.006281 -0.005903  ... -0.018851  0.005646 -0.001671 -0.002165  0.014043   \n",
       "4 -0.000583  0.006281  ...  0.009911  0.002728  0.005646 -0.001671  0.000115   \n",
       "5  0.004575 -0.000583  ... -0.008557 -0.009446  0.002728  0.005646 -0.005087   \n",
       "6 -0.003133  0.004575  ...  0.005671 -0.009994 -0.009446  0.002728 -0.009023   \n",
       "7 -0.008859 -0.003133  ... -0.014532 -0.009976 -0.009994 -0.009446 -0.015853   \n",
       "8 -0.000647 -0.008859  ... -0.001415  0.001458 -0.009976 -0.009994 -0.002048   \n",
       "9 -0.015123 -0.000647  ... -0.006437 -0.000420  0.001458 -0.009976 -0.007153   \n",
       "\n",
       "        x23       x24       x25       x26       x27  \n",
       "0 -0.000917 -0.005947 -0.002636 -0.004945 -0.000807  \n",
       "1 -0.004152 -0.000917 -0.015685 -0.002636 -0.004945  \n",
       "2 -0.001888 -0.004152 -0.006410 -0.015685 -0.002636  \n",
       "3  0.002962 -0.001888  0.001403 -0.006410 -0.015685  \n",
       "4  0.014043  0.002962  0.003371  0.001403 -0.006410  \n",
       "5  0.000115  0.014043 -0.012790  0.003371  0.001403  \n",
       "6 -0.005087  0.000115  0.001433 -0.012790  0.003371  \n",
       "7 -0.009023 -0.005087  0.001208  0.001433 -0.012790  \n",
       "8 -0.015853 -0.009023 -0.012300  0.001208  0.001433  \n",
       "9 -0.002048 -0.015853 -0.008880 -0.012300  0.001208  \n",
       "\n",
       "[10 rows x 28 columns]"
      ]
     },
     "execution_count": 93,
     "metadata": {},
     "output_type": "execute_result"
    }
   ],
   "source": [
    "TSX.head(10)"
   ]
  },
  {
   "cell_type": "markdown",
   "metadata": {},
   "source": [
    "<strong>Affichage du nombre d'observations</strong>"
   ]
  },
  {
   "cell_type": "code",
   "execution_count": 94,
   "metadata": {},
   "outputs": [
    {
     "data": {
      "text/plain": [
       "(1061, 28)"
      ]
     },
     "execution_count": 94,
     "metadata": {},
     "output_type": "execute_result"
    }
   ],
   "source": [
    "TSX.shape"
   ]
  },
  {
   "cell_type": "markdown",
   "metadata": {},
   "source": [
    "#### Affichage du nom des variables indicatrices"
   ]
  },
  {
   "cell_type": "code",
   "execution_count": 95,
   "metadata": {},
   "outputs": [
    {
     "data": {
      "text/plain": [
       "Index(['tsx', 'x1', 'x2', 'x3', 'x4', 'x5', 'x6', 'x7', 'x8', 'x9', 'x10',\n",
       "       'x11', 'x12', 'x13', 'x14', 'x15', 'x16', 'x17', 'x18', 'x19', 'x20',\n",
       "       'x21', 'x22', 'x23', 'x24', 'x25', 'x26', 'x27'],\n",
       "      dtype='object')"
      ]
     },
     "execution_count": 95,
     "metadata": {},
     "output_type": "execute_result"
    }
   ],
   "source": [
    "TSX.columns"
   ]
  },
  {
   "cell_type": "markdown",
   "metadata": {},
   "source": [
    "Nous remarquons que les colonnes sont osfusquées"
   ]
  },
  {
   "cell_type": "markdown",
   "metadata": {},
   "source": [
    "#### Affichage du type des variables indicatrices"
   ]
  },
  {
   "cell_type": "code",
   "execution_count": 104,
   "metadata": {},
   "outputs": [
    {
     "name": "stdout",
     "output_type": "stream",
     "text": [
      "<class 'pandas.core.frame.DataFrame'>\n",
      "Int64Index: 1061 entries, 0 to 1060\n",
      "Data columns (total 27 columns):\n",
      "x1     1061 non-null float64\n",
      "x2     1061 non-null float64\n",
      "x3     1061 non-null float64\n",
      "x4     1061 non-null float64\n",
      "x5     1061 non-null float64\n",
      "x6     1061 non-null float64\n",
      "x7     1061 non-null float64\n",
      "x8     1061 non-null float64\n",
      "x9     1061 non-null float64\n",
      "x10    1061 non-null float64\n",
      "x11    1061 non-null float64\n",
      "x12    1061 non-null float64\n",
      "x13    1061 non-null float64\n",
      "x14    1061 non-null float64\n",
      "x15    1061 non-null float64\n",
      "x16    1061 non-null float64\n",
      "x17    1061 non-null float64\n",
      "x18    1061 non-null float64\n",
      "x19    1061 non-null float64\n",
      "x20    1061 non-null float64\n",
      "x21    1061 non-null float64\n",
      "x22    1061 non-null float64\n",
      "x23    1061 non-null float64\n",
      "x24    1061 non-null float64\n",
      "x25    1061 non-null float64\n",
      "x26    1061 non-null float64\n",
      "x27    1061 non-null float64\n",
      "dtypes: float64(27)\n",
      "memory usage: 272.1 KB\n"
     ]
    }
   ],
   "source": [
    "TSX.info()"
   ]
  },
  {
   "cell_type": "markdown",
   "metadata": {},
   "source": [
    "#### Vérification de la proportion des classes positives (Hausse) et négatives (Baisse) "
   ]
  },
  {
   "cell_type": "code",
   "execution_count": 97,
   "metadata": {},
   "outputs": [
    {
     "data": {
      "image/png": "[encoded data removed]",
      "text/plain": [
       "<Figure size 432x288 with 1 Axes>"
      ]
     },
     "metadata": {
      "needs_background": "light"
     },
     "output_type": "display_data"
    }
   ],
   "source": [
    "sns.countplot(x='tsx', hue='tsx', data=TSX)\n",
    "plt.xlabel('tsx Class')\n",
    "plt.ylabel('Nbre d''observations')\n",
    "plt.show()"
   ]
  },
  {
   "cell_type": "markdown",
   "metadata": {},
   "source": [
    "On remarque qu'il y'a un débalancement négligeable des classes. Aucune action n'est réquise pour l'instant."
   ]
  },
  {
   "cell_type": "markdown",
   "metadata": {},
   "source": [
    "#### conversion de la variable dépendante en entier"
   ]
  },
  {
   "cell_type": "code",
   "execution_count": 106,
   "metadata": {},
   "outputs": [],
   "source": [
    "TSX['tsx'] = TSX['tsx'].astype(int)"
   ]
  },
  {
   "cell_type": "markdown",
   "metadata": {},
   "source": [
    "#### Extraction des variables indépendentes et dépendante "
   ]
  },
  {
   "cell_type": "code",
   "execution_count": 107,
   "metadata": {},
   "outputs": [],
   "source": [
    "y = TSX[['tsx']].values.ravel() # Le ravel sert à éviter un warning tanant ...\n",
    "\n",
    "TSX = TSX.drop(columns=['tsx'])\n",
    "X = TSX.values\n"
   ]
  },
  {
   "cell_type": "markdown",
   "metadata": {},
   "source": [
    "#### Sauvegarde du nombre d'observations"
   ]
  },
  {
   "cell_type": "code",
   "execution_count": 108,
   "metadata": {},
   "outputs": [],
   "source": [
    "m = len(y)"
   ]
  },
  {
   "cell_type": "markdown",
   "metadata": {},
   "source": [
    "## 2 - Standardisation des données"
   ]
  },
  {
   "cell_type": "markdown",
   "metadata": {},
   "source": [
    "Etant donné que nos données contiennent plusieurs décimales, il est convient de les standardiser, afin de profiter de profiter de toute la puissance de certains de nos algorithmes.\n",
    "Notre choix s'est basé sur le robustScaler afin de mieux gerer les valeurs abberrantes."
   ]
  },
  {
   "cell_type": "code",
   "execution_count": 112,
   "metadata": {},
   "outputs": [],
   "source": [
    "scaler = RobustScaler().fit(X)\n",
    "X_scale = scaler.transform(X)"
   ]
  },
  {
   "cell_type": "markdown",
   "metadata": {},
   "source": [
    "## 3 -Mélange des données et séparation en jeu d’entraînement et de test"
   ]
  },
  {
   "cell_type": "code",
   "execution_count": 113,
   "metadata": {},
   "outputs": [],
   "source": [
    "X_train, X_test, y_train, y_test = train_test_split(X_scale, y, test_size=0.30, random_state=2020)"
   ]
  },
  {
   "cell_type": "code",
   "execution_count": 114,
   "metadata": {},
   "outputs": [
    {
     "data": {
      "text/plain": [
       "(742, 27)"
      ]
     },
     "execution_count": 114,
     "metadata": {},
     "output_type": "execute_result"
    }
   ],
   "source": [
    "X_train.shape"
   ]
  },
  {
   "cell_type": "code",
   "execution_count": 115,
   "metadata": {},
   "outputs": [
    {
     "data": {
      "text/plain": [
       "(319, 27)"
      ]
     },
     "execution_count": 115,
     "metadata": {},
     "output_type": "execute_result"
    }
   ],
   "source": [
    "X_test.shape"
   ]
  },
  {
   "cell_type": "markdown",
   "metadata": {},
   "source": [
    "Pour la suite des choses, nous entrainerons plusieurs algorithmes sur nos données. Nos modèles de classification obtenus seront souples, c'est à dire la possibilité de prédire des valeurs continues dans l'intervalle [0,1]. Cela apporte une certaine flexibilité à notre solution.Dans tous les cas il existe des techniques permettant la conversion vers des prédictions rigides.\n",
    "\n",
    "Aussi, la métrique utilisée sera `l'entropie croisée (Log-loss)`. Elle permet de mieux comparer les scores de prédictions qui contiennent plusieurs décimales."
   ]
  },
  {
   "cell_type": "markdown",
   "metadata": {},
   "source": [
    "## 4 - Modèle de référence"
   ]
  },
  {
   "cell_type": "code",
   "execution_count": 116,
   "metadata": {},
   "outputs": [
    {
     "data": {
      "text/plain": [
       "DummyClassifier(constant=None, random_state=None, strategy='most_frequent')"
      ]
     },
     "execution_count": 116,
     "metadata": {},
     "output_type": "execute_result"
    }
   ],
   "source": [
    "baseline_clf = DummyClassifier(strategy='most_frequent') \n",
    "baseline_clf.fit(X_train, y_train)"
   ]
  },
  {
   "cell_type": "code",
   "execution_count": 119,
   "metadata": {},
   "outputs": [],
   "source": [
    "dummy_score = log_loss(y_train, baseline_clf.predict_proba(X_train)[:,1])"
   ]
  },
  {
   "cell_type": "code",
   "execution_count": 120,
   "metadata": {},
   "outputs": [
    {
     "data": {
      "text/plain": [
       "{'Baseline': 16.106055651415016}"
      ]
     },
     "execution_count": 120,
     "metadata": {},
     "output_type": "execute_result"
    }
   ],
   "source": [
    "history = {}\n",
    "history['Baseline'] = dummy_score\n",
    "history"
   ]
  },
  {
   "cell_type": "markdown",
   "metadata": {},
   "source": [
    "Notre défi, c'est de faire mieux que le modèle baseline. Let's go!"
   ]
  },
  {
   "cell_type": "markdown",
   "metadata": {},
   "source": [
    "## 5 - Régression logistique"
   ]
  },
  {
   "cell_type": "markdown",
   "metadata": {},
   "source": [
    "[class sklearn.linear_model.LogisticRegression(penalty='l2', dual=False, tol=0.0001, C=1.0, fit_intercept=True, intercept_scaling=1, class_weight=None, random_state=None, solver='lbfgs', max_iter=100, multi_class='auto', verbose=0, warm_start=False, n_jobs=None, l1_ratio=None)](https://scikit-learn.org/stable/modules/generated/sklearn.linear_model.LogisticRegression.html)"
   ]
  },
  {
   "cell_type": "code",
   "execution_count": 121,
   "metadata": {},
   "outputs": [],
   "source": [
    "# Grille de recherche\n",
    "parameters = {'C':[0.01, 0.1, 1],\n",
    "              'l1_ratio':[0, 0.1, 0.2, 0.3, 0.4],\n",
    "              'penalty': ['none', 'elasticnet']}\n",
    "\n",
    "# Modèle\n",
    "clf_logreg = LogisticRegression(max_iter=10000,\n",
    "                                  solver='saga',\n",
    "                                  random_state=2020)\n",
    "\n",
    "# Recherche sur grille avec validation croisée\n",
    "clf_logreg_grid = GridSearchCV(clf_logreg, parameters, cv=5, scoring=\"neg_log_loss\", verbose=1, n_jobs=-1)"
   ]
  },
  {
   "cell_type": "code",
   "execution_count": 122,
   "metadata": {},
   "outputs": [
    {
     "name": "stdout",
     "output_type": "stream",
     "text": [
      "Fitting 5 folds for each of 30 candidates, totalling 150 fits\n"
     ]
    },
    {
     "name": "stderr",
     "output_type": "stream",
     "text": [
      "[Parallel(n_jobs=-1)]: Using backend LokyBackend with 2 concurrent workers.\n",
      "[Parallel(n_jobs=-1)]: Done 146 tasks      | elapsed:    5.6s\n",
      "[Parallel(n_jobs=-1)]: Done 150 out of 150 | elapsed:    5.7s finished\n"
     ]
    },
    {
     "data": {
      "text/plain": [
       "GridSearchCV(cv=5, error_score=nan,\n",
       "             estimator=LogisticRegression(C=1.0, class_weight=None, dual=False,\n",
       "                                          fit_intercept=True,\n",
       "                                          intercept_scaling=1, l1_ratio=None,\n",
       "                                          max_iter=10000, multi_class='auto',\n",
       "                                          n_jobs=None, penalty='l2',\n",
       "                                          random_state=2020, solver='saga',\n",
       "                                          tol=0.0001, verbose=0,\n",
       "                                          warm_start=False),\n",
       "             iid='deprecated', n_jobs=-1,\n",
       "             param_grid={'C': [0.01, 0.1, 1],\n",
       "                         'l1_ratio': [0, 0.1, 0.2, 0.3, 0.4],\n",
       "                         'penalty': ['none', 'elasticnet']},\n",
       "             pre_dispatch='2*n_jobs', refit=True, return_train_score=False,\n",
       "             scoring='neg_log_loss', verbose=1)"
      ]
     },
     "execution_count": 122,
     "metadata": {},
     "output_type": "execute_result"
    }
   ],
   "source": [
    "clf_logreg_grid.fit(X_train_scale, y_train)"
   ]
  },
  {
   "cell_type": "code",
   "execution_count": 124,
   "metadata": {},
   "outputs": [
    {
     "name": "stdout",
     "output_type": "stream",
     "text": [
      "Meilleurs paramètres: {'C': 0.1, 'l1_ratio': 0.4, 'penalty': 'elasticnet'}\n",
      "Meilleur score (mean CV): -0.6083285109244736\n"
     ]
    }
   ],
   "source": [
    "print(f'Meilleurs paramètres: {clf_logreg_grid.best_params_}')\n",
    "print(f'Meilleur score (mean CV): {clf_logreg_grid.best_score_}')"
   ]
  },
  {
   "cell_type": "code",
   "execution_count": 125,
   "metadata": {},
   "outputs": [
    {
     "data": {
      "text/plain": [
       "{'Baseline': 16.106055651415016, 'Logistic regression': 0.6083285109244736}"
      ]
     },
     "execution_count": 125,
     "metadata": {},
     "output_type": "execute_result"
    }
   ],
   "source": [
    "history['Logistic regression'] = -clf_logreg_grid.best_score_\n",
    "history"
   ]
  },
  {
   "cell_type": "markdown",
   "metadata": {},
   "source": [
    "## 6 - K plus proches voisins"
   ]
  },
  {
   "cell_type": "markdown",
   "metadata": {},
   "source": [
    "[class sklearn.neighbors.KNeighborsClassifier(n_neighbors=5, weights='uniform', algorithm='auto', leaf_size=30, p=2, metric='minkowski', metric_params=None, n_jobs=None, **kwargs)](https://scikit-learn.org/stable/modules/generated/sklearn.neighbors.KNeighborsClassifier.html)"
   ]
  },
  {
   "cell_type": "code",
   "execution_count": 126,
   "metadata": {},
   "outputs": [],
   "source": [
    "# Grille de recherche\n",
    "parameters = {'n_neighbors':[75, 100, 125, 150],\n",
    "              'p':[1, 2],\n",
    "              'weights':['uniform', 'distance']}\n",
    "\n",
    "# Modèle\n",
    "clf_knn = KNeighborsClassifier()\n",
    "\n",
    "# Recherche sur grille avec validation croisée\n",
    "clf_knn_grid = GridSearchCV(clf_knn, parameters, cv=5, scoring=\"neg_log_loss\", verbose=1, n_jobs=-1)"
   ]
  },
  {
   "cell_type": "code",
   "execution_count": 127,
   "metadata": {},
   "outputs": [
    {
     "name": "stdout",
     "output_type": "stream",
     "text": [
      "Fitting 5 folds for each of 16 candidates, totalling 80 fits\n"
     ]
    },
    {
     "name": "stderr",
     "output_type": "stream",
     "text": [
      "[Parallel(n_jobs=-1)]: Using backend LokyBackend with 2 concurrent workers.\n",
      "[Parallel(n_jobs=-1)]: Done  80 out of  80 | elapsed:    1.5s finished\n"
     ]
    },
    {
     "data": {
      "text/plain": [
       "GridSearchCV(cv=5, error_score=nan,\n",
       "             estimator=KNeighborsClassifier(algorithm='auto', leaf_size=30,\n",
       "                                            metric='minkowski',\n",
       "                                            metric_params=None, n_jobs=None,\n",
       "                                            n_neighbors=5, p=2,\n",
       "                                            weights='uniform'),\n",
       "             iid='deprecated', n_jobs=-1,\n",
       "             param_grid={'n_neighbors': [75, 100, 125, 150], 'p': [1, 2],\n",
       "                         'weights': ['uniform', 'distance']},\n",
       "             pre_dispatch='2*n_jobs', refit=True, return_train_score=False,\n",
       "             scoring='neg_log_loss', verbose=1)"
      ]
     },
     "execution_count": 127,
     "metadata": {},
     "output_type": "execute_result"
    }
   ],
   "source": [
    "clf_knn_grid.fit(X_train_scale, y_train)"
   ]
  },
  {
   "cell_type": "code",
   "execution_count": 128,
   "metadata": {},
   "outputs": [
    {
     "name": "stdout",
     "output_type": "stream",
     "text": [
      "Meilleurs paramètres: {'n_neighbors': 75, 'p': 2, 'weights': 'distance'}\n",
      "Meilleur score (mean CV): -0.6480538873223862\n"
     ]
    }
   ],
   "source": [
    "print(f'Meilleurs paramètres: {clf_knn_grid.best_params_}')\n",
    "print(f'Meilleur score (mean CV): {clf_knn_grid.best_score_}')"
   ]
  },
  {
   "cell_type": "code",
   "execution_count": 129,
   "metadata": {},
   "outputs": [
    {
     "data": {
      "text/plain": [
       "{'Baseline': 16.106055651415016,\n",
       " 'Logistic regression': 0.6083285109244736,\n",
       " 'KNN': 0.6480538873223862}"
      ]
     },
     "execution_count": 129,
     "metadata": {},
     "output_type": "execute_result"
    }
   ],
   "source": [
    "history['KNN'] = -clf_knn_grid.best_score_\n",
    "history"
   ]
  },
  {
   "cell_type": "markdown",
   "metadata": {},
   "source": [
    "## 7 - Arbres de décision"
   ]
  },
  {
   "cell_type": "markdown",
   "metadata": {},
   "source": [
    "[class sklearn.tree.DecisionTreeClassifier(criterion='gini', splitter='best', max_depth=None, min_samples_split=2, min_samples_leaf=1, min_weight_fraction_leaf=0.0, max_features=None, random_state=None, max_leaf_nodes=None, min_impurity_decrease=0.0, min_impurity_split=None, class_weight=None, presort='deprecated', ccp_alpha=0.0)](https://scikit-learn.org/stable/modules/generated/sklearn.tree.DecisionTreeClassifier.html)"
   ]
  },
  {
   "cell_type": "code",
   "execution_count": 130,
   "metadata": {},
   "outputs": [],
   "source": [
    "# Distributions des hyperparamètres\n",
    "distributions = dict(\n",
    "    criterion=['gini', 'entropy'],\n",
    "    ccp_alpha=loguniform(1e-4, 1e3),\n",
    "    max_depth=randint(2, 128))\n",
    "\n",
    "# Modèle\n",
    "clf_tree = DecisionTreeClassifier(random_state=2020)\n",
    "\n",
    "    \n",
    "# Recherche aléatoire avec validation croisée\n",
    "clf_tree_rnd = RandomizedSearchCV(clf_tree, distributions, n_iter=1000, cv=5, scoring=\"neg_log_loss\", verbose=1, n_jobs=-1, random_state=2020)"
   ]
  },
  {
   "cell_type": "code",
   "execution_count": 131,
   "metadata": {},
   "outputs": [
    {
     "name": "stdout",
     "output_type": "stream",
     "text": [
      "Fitting 5 folds for each of 1000 candidates, totalling 5000 fits\n"
     ]
    },
    {
     "name": "stderr",
     "output_type": "stream",
     "text": [
      "[Parallel(n_jobs=-1)]: Using backend LokyBackend with 2 concurrent workers.\n",
      "[Parallel(n_jobs=-1)]: Done 300 tasks      | elapsed:    3.9s\n",
      "[Parallel(n_jobs=-1)]: Done 1500 tasks      | elapsed:   17.4s\n",
      "[Parallel(n_jobs=-1)]: Done 3500 tasks      | elapsed:   41.4s\n",
      "[Parallel(n_jobs=-1)]: Done 5000 out of 5000 | elapsed:   59.3s finished\n"
     ]
    },
    {
     "data": {
      "text/plain": [
       "RandomizedSearchCV(cv=5, error_score=nan,\n",
       "                   estimator=DecisionTreeClassifier(ccp_alpha=0.0,\n",
       "                                                    class_weight=None,\n",
       "                                                    criterion='gini',\n",
       "                                                    max_depth=None,\n",
       "                                                    max_features=None,\n",
       "                                                    max_leaf_nodes=None,\n",
       "                                                    min_impurity_decrease=0.0,\n",
       "                                                    min_impurity_split=None,\n",
       "                                                    min_samples_leaf=1,\n",
       "                                                    min_samples_split=2,\n",
       "                                                    min_weight_fraction_leaf=0.0,\n",
       "                                                    presort='deprecated',\n",
       "                                                    random_state=2020,\n",
       "                                                    splitter='best'),\n",
       "                   i...ed', n_iter=1000, n_jobs=-1,\n",
       "                   param_distributions={'ccp_alpha': <scipy.stats._distn_infrastructure.rv_frozen object at 0x7f1ea1cba358>,\n",
       "                                        'criterion': ['gini', 'entropy'],\n",
       "                                        'max_depth': <scipy.stats._distn_infrastructure.rv_frozen object at 0x7f1ea1cba518>},\n",
       "                   pre_dispatch='2*n_jobs', random_state=2020, refit=True,\n",
       "                   return_train_score=False, scoring='neg_log_loss', verbose=1)"
      ]
     },
     "execution_count": 131,
     "metadata": {},
     "output_type": "execute_result"
    }
   ],
   "source": [
    "clf_tree_rnd.fit(X_train_scale, y_train)"
   ]
  },
  {
   "cell_type": "code",
   "execution_count": 132,
   "metadata": {},
   "outputs": [
    {
     "name": "stdout",
     "output_type": "stream",
     "text": [
      "Meilleurs paramètres: {'ccp_alpha': 0.00103461302917416, 'criterion': 'gini', 'max_depth': 2}\n",
      "Meilleur score (mean CV): -0.6337946734365941\n"
     ]
    }
   ],
   "source": [
    "print(f'Meilleurs paramètres: {clf_tree_rnd.best_params_}')\n",
    "print(f'Meilleur score (mean CV): {clf_tree_rnd.best_score_}')"
   ]
  },
  {
   "cell_type": "code",
   "execution_count": 133,
   "metadata": {},
   "outputs": [
    {
     "data": {
      "text/plain": [
       "{'Baseline': 16.106055651415016,\n",
       " 'Logistic regression': 0.6083285109244736,\n",
       " 'KNN': 0.6480538873223862,\n",
       " 'Decision Tree': 0.6337946734365941}"
      ]
     },
     "execution_count": 133,
     "metadata": {},
     "output_type": "execute_result"
    }
   ],
   "source": [
    "history['Decision Tree'] = -clf_tree_rnd.best_score_\n",
    "history"
   ]
  },
  {
   "cell_type": "markdown",
   "metadata": {},
   "source": [
    "## 9 - Bagging (Arbres de décision)"
   ]
  },
  {
   "cell_type": "markdown",
   "metadata": {},
   "source": [
    "[class sklearn.ensemble.BaggingClassifier(base_estimator=None, n_estimators=10, max_samples=1.0, max_features=1.0, bootstrap=True, bootstrap_features=False, oob_score=False, warm_start=False, n_jobs=None, random_state=None, verbose=0)](https://scikit-learn.org/stable/modules/generated/sklearn.ensemble.BaggingClassifier.html)"
   ]
  },
  {
   "cell_type": "code",
   "execution_count": 135,
   "metadata": {},
   "outputs": [],
   "source": [
    "clf_bag_dt = BaggingClassifier(base_estimator=clf_tree_rnd.best_estimator_, n_estimators=1000, verbose=1, n_jobs=-1, random_state=2020)"
   ]
  },
  {
   "cell_type": "code",
   "execution_count": 136,
   "metadata": {},
   "outputs": [
    {
     "name": "stderr",
     "output_type": "stream",
     "text": [
      "[Parallel(n_jobs=2)]: Using backend LokyBackend with 2 concurrent workers.\n",
      "[Parallel(n_jobs=2)]: Done   2 out of   2 | elapsed:    3.1s remaining:    0.0s\n",
      "[Parallel(n_jobs=2)]: Done   2 out of   2 | elapsed:    3.1s finished\n"
     ]
    },
    {
     "data": {
      "text/plain": [
       "BaggingClassifier(base_estimator=DecisionTreeClassifier(ccp_alpha=0.00103461302917416,\n",
       "                                                        class_weight=None,\n",
       "                                                        criterion='gini',\n",
       "                                                        max_depth=2,\n",
       "                                                        max_features=None,\n",
       "                                                        max_leaf_nodes=None,\n",
       "                                                        min_impurity_decrease=0.0,\n",
       "                                                        min_impurity_split=None,\n",
       "                                                        min_samples_leaf=1,\n",
       "                                                        min_samples_split=2,\n",
       "                                                        min_weight_fraction_leaf=0.0,\n",
       "                                                        presort='deprecated',\n",
       "                                                        random_state=2020,\n",
       "                                                        splitter='best'),\n",
       "                  bootstrap=True, bootstrap_features=False, max_features=1.0,\n",
       "                  max_samples=1.0, n_estimators=1000, n_jobs=-1,\n",
       "                  oob_score=False, random_state=2020, verbose=1,\n",
       "                  warm_start=False)"
      ]
     },
     "execution_count": 136,
     "metadata": {},
     "output_type": "execute_result"
    }
   ],
   "source": [
    "clf_bag_dt.fit(X_train_scale, y_train)"
   ]
  },
  {
   "cell_type": "code",
   "execution_count": 137,
   "metadata": {},
   "outputs": [
    {
     "name": "stderr",
     "output_type": "stream",
     "text": [
      "[Parallel(n_jobs=-1)]: Using backend LokyBackend with 2 concurrent workers.\n",
      "[Parallel(n_jobs=-1)]: Done   5 out of   5 | elapsed:   16.1s finished\n"
     ]
    }
   ],
   "source": [
    "# Score de validation croisée\n",
    "cv_score_bag_dt = cross_val_score(clf_bag_dt, X_train_scale, y_train, cv=5, scoring=\"neg_log_loss\", verbose=1, n_jobs=-1).mean()"
   ]
  },
  {
   "cell_type": "code",
   "execution_count": 138,
   "metadata": {},
   "outputs": [
    {
     "name": "stdout",
     "output_type": "stream",
     "text": [
      "Score (mean CV): -0.6116900448893927\n"
     ]
    }
   ],
   "source": [
    "print(f'Score (mean CV): {cv_score_bag_dt}')"
   ]
  },
  {
   "cell_type": "code",
   "execution_count": 140,
   "metadata": {},
   "outputs": [
    {
     "data": {
      "text/plain": [
       "{'Baseline': 16.106055651415016,\n",
       " 'Logistic regression': 0.6083285109244736,\n",
       " 'KNN': 0.6480538873223862,\n",
       " 'Decision Tree': 0.6337946734365941,\n",
       " 'Bagging Decision Tree': 0.6116900448893927}"
      ]
     },
     "execution_count": 140,
     "metadata": {},
     "output_type": "execute_result"
    }
   ],
   "source": [
    "history['Bagging Decision Tree'] = -cv_score_bag_dt\n",
    "history"
   ]
  },
  {
   "cell_type": "markdown",
   "metadata": {},
   "source": [
    "Ci-dessous, nos modèles classés par ordre de performance"
   ]
  },
  {
   "cell_type": "code",
   "execution_count": 145,
   "metadata": {},
   "outputs": [
    {
     "name": "stdout",
     "output_type": "stream",
     "text": [
      "Logistic regression  =>  0.6083285109244736\n",
      "Bagging Decision Tree  =>  0.6116900448893927\n",
      "Decision Tree  =>  0.6337946734365941\n",
      "KNN  =>  0.6480538873223862\n",
      "Baseline  =>  16.106055651415016\n"
     ]
    },
    {
     "data": {
      "text/plain": [
       "[None, None, None, None, None]"
      ]
     },
     "execution_count": 145,
     "metadata": {},
     "output_type": "execute_result"
    }
   ],
   "source": [
    "[ print(key , \" => \" , value) for (key, value) in sorted(history.items() , key=lambda x: x[1]) ]"
   ]
  },
  {
   "cell_type": "markdown",
   "metadata": {},
   "source": [
    "## 10 - Courbes d'apprentissage pour le meilleur modèle"
   ]
  },
  {
   "cell_type": "markdown",
   "metadata": {},
   "source": [
    "La courbe d'apprentissage nous aidera à detecter certains problèmes comme le surapprentissage de nos meilleurs modèles. Pour ce faire , nous augmenterons graduellement nos données lors des entrainements et mesurerons le score de test et de validation."
   ]
  },
  {
   "cell_type": "markdown",
   "metadata": {},
   "source": [
    "### Regression logistique"
   ]
  },
  {
   "cell_type": "code",
   "execution_count": 146,
   "metadata": {},
   "outputs": [
    {
     "name": "stderr",
     "output_type": "stream",
     "text": [
      "100%|██████████| 10/10 [00:00<00:00, 33.68it/s]\n"
     ]
    }
   ],
   "source": [
    "lcurves = defaultdict(list)\n",
    "\n",
    "for p in tqdm([0.1, 0.2, 0.3, 0.4, 0.5, 0.6, 0.7, 0.8, 0.9, 1]):\n",
    "    X_, y_ = resample(X_train_scale, y_train, n_samples=p*m, stratify=y_train, random_state=2020)\n",
    "    Xt, Xv, yt, yv = train_test_split(X_, y_, test_size=0.3, stratify=y_, random_state=2020)\n",
    "    \n",
    "    clf_logreg_grid.best_estimator_.fit(Xt, yt)\n",
    "    \n",
    "    lcurves['Train'].append(log_loss(yt,clf_logreg_grid.predict_proba(Xt)[:,1]))\n",
    "    lcurves['Val'].append(log_loss(yv,clf_logreg_grid .predict_proba(Xv)[:,1]))"
   ]
  },
  {
   "cell_type": "markdown",
   "metadata": {},
   "source": [
    "#### Affichage des courbes d'apprentissage"
   ]
  },
  {
   "cell_type": "code",
   "execution_count": 147,
   "metadata": {},
   "outputs": [
    {
     "data": {
      "text/plain": [
       "<matplotlib.legend.Legend at 0x7f1eb0295198>"
      ]
     },
     "execution_count": 147,
     "metadata": {},
     "output_type": "execute_result"
    },
    {
     "data": {
      "image/png": "[encoded data removed]",
      "text/plain": [
       "<Figure size 432x288 with 1 Axes>"
      ]
     },
     "metadata": {
      "needs_background": "light"
     },
     "output_type": "display_data"
    }
   ],
   "source": [
    "plt.plot(lcurves['Train'], label=\"Train\")\n",
    "plt.plot(lcurves['Val'], label=\"Validation\")\n",
    "plt.legend()"
   ]
  },
  {
   "cell_type": "code",
   "execution_count": null,
   "metadata": {},
   "outputs": [],
   "source": [
    "Le gap semble ç un peu grand."
   ]
  },
  {
   "cell_type": "markdown",
   "metadata": {},
   "source": [
    "### Bagging decision tree"
   ]
  },
  {
   "cell_type": "code",
   "execution_count": 59,
   "metadata": {},
   "outputs": [
    {
     "name": "stderr",
     "output_type": "stream",
     "text": [
      "  0%|          | 0/10 [00:00<?, ?it/s][Parallel(n_jobs=2)]: Using backend LokyBackend with 2 concurrent workers.\n",
      "[Parallel(n_jobs=2)]: Done   2 out of   2 | elapsed:    1.7s remaining:    0.0s\n",
      "[Parallel(n_jobs=2)]: Done   2 out of   2 | elapsed:    1.7s finished\n",
      "[Parallel(n_jobs=2)]: Using backend LokyBackend with 2 concurrent workers.\n",
      "[Parallel(n_jobs=2)]: Done   2 out of   2 | elapsed:    0.6s remaining:    0.0s\n",
      "[Parallel(n_jobs=2)]: Done   2 out of   2 | elapsed:    0.6s finished\n",
      "[Parallel(n_jobs=2)]: Using backend LokyBackend with 2 concurrent workers.\n",
      "[Parallel(n_jobs=2)]: Done   2 out of   2 | elapsed:    0.6s remaining:    0.0s\n",
      "[Parallel(n_jobs=2)]: Done   2 out of   2 | elapsed:    0.6s finished\n",
      " 10%|█         | 1/10 [00:02<00:26,  2.98s/it][Parallel(n_jobs=2)]: Using backend LokyBackend with 2 concurrent workers.\n",
      "[Parallel(n_jobs=2)]: Done   2 out of   2 | elapsed:    1.7s remaining:    0.0s\n",
      "[Parallel(n_jobs=2)]: Done   2 out of   2 | elapsed:    1.7s finished\n",
      "[Parallel(n_jobs=2)]: Using backend LokyBackend with 2 concurrent workers.\n",
      "[Parallel(n_jobs=2)]: Done   2 out of   2 | elapsed:    0.6s remaining:    0.0s\n",
      "[Parallel(n_jobs=2)]: Done   2 out of   2 | elapsed:    0.6s finished\n",
      "[Parallel(n_jobs=2)]: Using backend LokyBackend with 2 concurrent workers.\n",
      "[Parallel(n_jobs=2)]: Done   2 out of   2 | elapsed:    0.6s remaining:    0.0s\n",
      "[Parallel(n_jobs=2)]: Done   2 out of   2 | elapsed:    0.6s finished\n",
      " 20%|██        | 2/10 [00:05<00:23,  2.97s/it][Parallel(n_jobs=2)]: Using backend LokyBackend with 2 concurrent workers.\n",
      "[Parallel(n_jobs=2)]: Done   2 out of   2 | elapsed:    2.2s remaining:    0.0s\n",
      "[Parallel(n_jobs=2)]: Done   2 out of   2 | elapsed:    2.2s finished\n",
      "[Parallel(n_jobs=2)]: Using backend LokyBackend with 2 concurrent workers.\n",
      "[Parallel(n_jobs=2)]: Done   2 out of   2 | elapsed:    0.6s remaining:    0.0s\n",
      "[Parallel(n_jobs=2)]: Done   2 out of   2 | elapsed:    0.6s finished\n",
      "[Parallel(n_jobs=2)]: Using backend LokyBackend with 2 concurrent workers.\n",
      "[Parallel(n_jobs=2)]: Done   2 out of   2 | elapsed:    0.6s remaining:    0.0s\n",
      "[Parallel(n_jobs=2)]: Done   2 out of   2 | elapsed:    0.6s finished\n",
      " 30%|███       | 3/10 [00:09<00:21,  3.13s/it][Parallel(n_jobs=2)]: Using backend LokyBackend with 2 concurrent workers.\n",
      "[Parallel(n_jobs=2)]: Done   2 out of   2 | elapsed:    2.0s remaining:    0.0s\n",
      "[Parallel(n_jobs=2)]: Done   2 out of   2 | elapsed:    2.0s finished\n",
      "[Parallel(n_jobs=2)]: Using backend LokyBackend with 2 concurrent workers.\n",
      "[Parallel(n_jobs=2)]: Done   2 out of   2 | elapsed:    0.6s remaining:    0.0s\n",
      "[Parallel(n_jobs=2)]: Done   2 out of   2 | elapsed:    0.6s finished\n",
      "[Parallel(n_jobs=2)]: Using backend LokyBackend with 2 concurrent workers.\n",
      "[Parallel(n_jobs=2)]: Done   2 out of   2 | elapsed:    0.6s remaining:    0.0s\n",
      "[Parallel(n_jobs=2)]: Done   2 out of   2 | elapsed:    0.6s finished\n",
      " 40%|████      | 4/10 [00:12<00:18,  3.16s/it][Parallel(n_jobs=2)]: Using backend LokyBackend with 2 concurrent workers.\n",
      "[Parallel(n_jobs=2)]: Done   2 out of   2 | elapsed:    2.3s remaining:    0.0s\n",
      "[Parallel(n_jobs=2)]: Done   2 out of   2 | elapsed:    2.3s finished\n",
      "[Parallel(n_jobs=2)]: Using backend LokyBackend with 2 concurrent workers.\n",
      "[Parallel(n_jobs=2)]: Done   2 out of   2 | elapsed:    0.7s remaining:    0.0s\n",
      "[Parallel(n_jobs=2)]: Done   2 out of   2 | elapsed:    0.7s finished\n",
      "[Parallel(n_jobs=2)]: Using backend LokyBackend with 2 concurrent workers.\n",
      "[Parallel(n_jobs=2)]: Done   2 out of   2 | elapsed:    0.7s remaining:    0.0s\n",
      "[Parallel(n_jobs=2)]: Done   2 out of   2 | elapsed:    0.7s finished\n",
      " 50%|█████     | 5/10 [00:16<00:16,  3.33s/it][Parallel(n_jobs=2)]: Using backend LokyBackend with 2 concurrent workers.\n",
      "[Parallel(n_jobs=2)]: Done   2 out of   2 | elapsed:    2.3s remaining:    0.0s\n",
      "[Parallel(n_jobs=2)]: Done   2 out of   2 | elapsed:    2.3s finished\n",
      "[Parallel(n_jobs=2)]: Using backend LokyBackend with 2 concurrent workers.\n",
      "[Parallel(n_jobs=2)]: Done   2 out of   2 | elapsed:    0.7s remaining:    0.0s\n",
      "[Parallel(n_jobs=2)]: Done   2 out of   2 | elapsed:    0.7s finished\n",
      "[Parallel(n_jobs=2)]: Using backend LokyBackend with 2 concurrent workers.\n",
      "[Parallel(n_jobs=2)]: Done   2 out of   2 | elapsed:    0.6s remaining:    0.0s\n",
      "[Parallel(n_jobs=2)]: Done   2 out of   2 | elapsed:    0.6s finished\n",
      " 60%|██████    | 6/10 [00:19<00:13,  3.42s/it][Parallel(n_jobs=2)]: Using backend LokyBackend with 2 concurrent workers.\n",
      "[Parallel(n_jobs=2)]: Done   2 out of   2 | elapsed:    2.4s remaining:    0.0s\n",
      "[Parallel(n_jobs=2)]: Done   2 out of   2 | elapsed:    2.4s finished\n",
      "[Parallel(n_jobs=2)]: Using backend LokyBackend with 2 concurrent workers.\n",
      "[Parallel(n_jobs=2)]: Done   2 out of   2 | elapsed:    0.7s remaining:    0.0s\n",
      "[Parallel(n_jobs=2)]: Done   2 out of   2 | elapsed:    0.7s finished\n",
      "[Parallel(n_jobs=2)]: Using backend LokyBackend with 2 concurrent workers.\n",
      "[Parallel(n_jobs=2)]: Done   2 out of   2 | elapsed:    0.6s remaining:    0.0s\n",
      "[Parallel(n_jobs=2)]: Done   2 out of   2 | elapsed:    0.6s finished\n",
      " 70%|███████   | 7/10 [00:23<00:10,  3.53s/it][Parallel(n_jobs=2)]: Using backend LokyBackend with 2 concurrent workers.\n",
      "[Parallel(n_jobs=2)]: Done   2 out of   2 | elapsed:    2.6s remaining:    0.0s\n",
      "[Parallel(n_jobs=2)]: Done   2 out of   2 | elapsed:    2.6s finished\n",
      "[Parallel(n_jobs=2)]: Using backend LokyBackend with 2 concurrent workers.\n",
      "[Parallel(n_jobs=2)]: Done   2 out of   2 | elapsed:    0.7s remaining:    0.0s\n",
      "[Parallel(n_jobs=2)]: Done   2 out of   2 | elapsed:    0.7s finished\n",
      "[Parallel(n_jobs=2)]: Using backend LokyBackend with 2 concurrent workers.\n",
      "[Parallel(n_jobs=2)]: Done   2 out of   2 | elapsed:    0.6s remaining:    0.0s\n",
      "[Parallel(n_jobs=2)]: Done   2 out of   2 | elapsed:    0.6s finished\n",
      " 80%|████████  | 8/10 [00:27<00:07,  3.62s/it][Parallel(n_jobs=2)]: Using backend LokyBackend with 2 concurrent workers.\n",
      "[Parallel(n_jobs=2)]: Done   2 out of   2 | elapsed:    2.8s remaining:    0.0s\n",
      "[Parallel(n_jobs=2)]: Done   2 out of   2 | elapsed:    2.8s finished\n",
      "[Parallel(n_jobs=2)]: Using backend LokyBackend with 2 concurrent workers.\n",
      "[Parallel(n_jobs=2)]: Done   2 out of   2 | elapsed:    0.7s remaining:    0.0s\n",
      "[Parallel(n_jobs=2)]: Done   2 out of   2 | elapsed:    0.7s finished\n",
      "[Parallel(n_jobs=2)]: Using backend LokyBackend with 2 concurrent workers.\n",
      "[Parallel(n_jobs=2)]: Done   2 out of   2 | elapsed:    0.7s remaining:    0.0s\n",
      "[Parallel(n_jobs=2)]: Done   2 out of   2 | elapsed:    0.7s finished\n",
      " 90%|█████████ | 9/10 [00:31<00:03,  3.77s/it][Parallel(n_jobs=2)]: Using backend LokyBackend with 2 concurrent workers.\n",
      "[Parallel(n_jobs=2)]: Done   2 out of   2 | elapsed:    2.9s remaining:    0.0s\n",
      "[Parallel(n_jobs=2)]: Done   2 out of   2 | elapsed:    2.9s finished\n",
      "[Parallel(n_jobs=2)]: Using backend LokyBackend with 2 concurrent workers.\n",
      "[Parallel(n_jobs=2)]: Done   2 out of   2 | elapsed:    1.0s remaining:    0.0s\n",
      "[Parallel(n_jobs=2)]: Done   2 out of   2 | elapsed:    1.0s finished\n",
      "[Parallel(n_jobs=2)]: Using backend LokyBackend with 2 concurrent workers.\n",
      "[Parallel(n_jobs=2)]: Done   2 out of   2 | elapsed:    0.8s remaining:    0.0s\n",
      "[Parallel(n_jobs=2)]: Done   2 out of   2 | elapsed:    0.8s finished\n",
      "100%|██████████| 10/10 [00:36<00:00,  3.65s/it]\n"
     ]
    }
   ],
   "source": [
    "lcurves = defaultdict(list)\n",
    "\n",
    "for p in tqdm([0.1,0.2,0.3,0.4,0.5,0.6, 0.7, 0.8, 0.9, 1]):\n",
    "    X_, y_ = resample(X_train_scale, y_train, n_samples=p*m, stratify=y_train, random_state=2020)\n",
    "    Xt, Xv, yt, yv = train_test_split(X_, y_, test_size=0.3, stratify=y_, random_state=2020)\n",
    "    \n",
    "    clf_bag_dt.fit(Xt, yt)\n",
    "    \n",
    "    lcurves['Train'].append(log_loss(yt,clf_bag_dt.predict_proba(Xt)[:,1]))\n",
    "    lcurves['Val'].append(log_loss(yv,clf_bag_dt.predict_proba(Xv)[:,1]))\n",
    "    \n",
    "    #lcurves['Train'].append(accuracy_score(clf_svc_grid.predict(Xt), yt))\n",
    "    #lcurves['Val'].append(accuracy_score(clf_svc_grid.predict(Xv), yv))"
   ]
  },
  {
   "cell_type": "code",
   "execution_count": 60,
   "metadata": {},
   "outputs": [
    {
     "data": {
      "text/plain": [
       "<matplotlib.legend.Legend at 0x7f1eb02ab5f8>"
      ]
     },
     "execution_count": 60,
     "metadata": {},
     "output_type": "execute_result"
    },
    {
     "data": {
      "image/png": "[encoded data removed]",
      "text/plain": [
       "<Figure size 842.4x595.44 with 1 Axes>"
      ]
     },
     "metadata": {},
     "output_type": "display_data"
    }
   ],
   "source": [
    "plt.plot(lcurves['Train'], label=\"Train\")\n",
    "plt.plot(lcurves['Val'], label=\"Validation\")\n",
    "plt.legend()"
   ]
  },
  {
   "cell_type": "code",
   "execution_count": null,
   "metadata": {},
   "outputs": [],
   "source": []
  },
  {
   "cell_type": "code",
   "execution_count": null,
   "metadata": {},
   "outputs": [],
   "source": []
  },
  {
   "cell_type": "code",
   "execution_count": null,
   "metadata": {},
   "outputs": [],
   "source": [
    "hyperspace = {\n",
    "    'warm_start' : hp.choice('warm_start', [True, False]),\n",
    "    'fit_intercept' : hp.choice('fit_intercept', [True, False]),\n",
    "    'tol' : hp.uniform('tol', 0.00001, 0.0001),\n",
    "    'C' : hp.uniform('C', 0.05, 3),\n",
    "    'solver' : hp.choice('solver', ['newton-cg', 'lbfgs', 'liblinear', 'sag', 'saga'])\n",
    "    #'max_iter' : hp.choice('max_iter', range(5,1000))\n",
    "}"
   ]
  },
  {
   "cell_type": "code",
   "execution_count": null,
   "metadata": {},
   "outputs": [],
   "source": [
    "def objective(hyperspace):\n",
    "\n",
    "    ws = hyperspace['warm_start']\n",
    "    fi = hyperspace['fit_intercept']\n",
    "    t = hyperspace['tol']\n",
    "    c = hyperspace['C']\n",
    "    sv = hyperspace['solver']\n",
    "   # mi = hyperspace['max_iter']\n",
    "\n",
    "    clf_gb = LogisticRegression(warm_start=ws, fit_intercept=fi,\n",
    "                                                tol=t, C=c, solver=sv,\n",
    "                                                max_iter=100000,\n",
    "                                                random_state=2020)\n",
    "    clf_gb.fit(X_train_pca, y_train)\n",
    "    cv_score = cross_val_score(clf_gb, X_train_pca, y_train, cv=5, scoring=\"accuracy\", verbose=0, n_jobs=8)\n",
    "\n",
    "    return -cv_score.mean()"
   ]
  },
  {
   "cell_type": "code",
   "execution_count": null,
   "metadata": {},
   "outputs": [],
   "source": [
    "best = fmin(objective, hyperspace, algo=tpe.suggest, max_evals=5000)"
   ]
  },
  {
   "cell_type": "markdown",
   "metadata": {},
   "source": [
    "## 13 -  Réentraînement du meilleur modèle en prenant en compte les meilleurs hyperparamètres"
   ]
  },
  {
   "cell_type": "code",
   "execution_count": 62,
   "metadata": {},
   "outputs": [
    {
     "name": "stderr",
     "output_type": "stream",
     "text": [
      "[Parallel(n_jobs=2)]: Using backend LokyBackend with 2 concurrent workers.\n",
      "[Parallel(n_jobs=2)]: Done   2 out of   2 | elapsed:    5.5s remaining:    0.0s\n",
      "[Parallel(n_jobs=2)]: Done   2 out of   2 | elapsed:    5.5s finished\n",
      "[Parallel(n_jobs=-1)]: Using backend LokyBackend with 2 concurrent workers.\n",
      "[Parallel(n_jobs=-1)]: Done   5 out of   5 | elapsed:   17.1s finished\n"
     ]
    },
    {
     "data": {
      "text/plain": [
       "-0.6089123710761192"
      ]
     },
     "execution_count": 62,
     "metadata": {},
     "output_type": "execute_result"
    }
   ],
   "source": [
    "clf_best= BaggingClassifier(base_estimator=clf_tree_rnd.best_estimator_, n_estimators=1000, verbose=1, n_jobs=-1, random_state=2020)\n",
    "\n",
    "clf_best.fit(X, y)\n",
    "\n",
    "cv_score = cross_val_score(clf_best, X, y, cv=5, scoring=\"neg_log_loss\", verbose=1, n_jobs=-1)\n",
    "cv_score.mean()"
   ]
  },
  {
   "cell_type": "markdown",
   "metadata": {},
   "source": [
    "## 14 - Métriques"
   ]
  },
  {
   "cell_type": "markdown",
   "metadata": {},
   "source": [
    "#### Prédictions"
   ]
  },
  {
   "cell_type": "code",
   "execution_count": null,
   "metadata": {},
   "outputs": [],
   "source": [
    "y_train_pred_proba_best = clf_best.predict_proba(X)[:,1]"
   ]
  },
  {
   "cell_type": "markdown",
   "metadata": {},
   "source": [
    "#### Aire sous la courbe"
   ]
  },
  {
   "cell_type": "code",
   "execution_count": null,
   "metadata": {},
   "outputs": [],
   "source": [
    "print(f'AUC = {roc_auc_score(y, y_train_pred_proba_best)}')"
   ]
  },
  {
   "cell_type": "markdown",
   "metadata": {},
   "source": [
    "#### Courbe ROC"
   ]
  },
  {
   "cell_type": "code",
   "execution_count": null,
   "metadata": {},
   "outputs": [],
   "source": [
    "fpr_rf, tpr_rf, thresholds = roc_curve(y, y_train_pred_proba_best)\n",
    "\n",
    "fig = plt.figure(4, figsize=(6, 6))\n",
    "\n",
    "plt.plot([0, 1], [0, 1], 'k--')\n",
    "plt.plot(fpr_rf, tpr_rf, label='Meilleur modèle')\n",
    "plt.xlabel('False positive rate')\n",
    "plt.ylabel('True positive rate')\n",
    "plt.title('ROC curve')\n",
    "plt.show()"
   ]
  },
  {
   "cell_type": "markdown",
   "metadata": {},
   "source": [
    "#### Recherche du meilleur seuil"
   ]
  },
  {
   "cell_type": "code",
   "execution_count": null,
   "metadata": {},
   "outputs": [],
   "source": [
    "selected_threshold = thresholds[np.argmax(-fpr_rf + tpr_rf)]\n",
    "selected_threshold"
   ]
  },
  {
   "cell_type": "markdown",
   "metadata": {},
   "source": [
    "#### F1 score"
   ]
  },
  {
   "cell_type": "code",
   "execution_count": null,
   "metadata": {},
   "outputs": [],
   "source": [
    "f1_score(y, y_train_pred_proba_best > selected_threshold)"
   ]
  },
  {
   "cell_type": "markdown",
   "metadata": {},
   "source": [
    "#### Matrice de confusion"
   ]
  },
  {
   "cell_type": "code",
   "execution_count": null,
   "metadata": {},
   "outputs": [],
   "source": [
    "fig = plt.figure(3, figsize=(6, 6))\n",
    "\n",
    "cnf_matrix = confusion_matrix(y, y_train_pred_proba_best > selected_threshold)\n",
    "np.set_printoptions(precision=2)\n",
    "plot_confusion_matrix(cnf_matrix, classes=['0','1'], title='Matrice de confusion')"
   ]
  },
  {
   "cell_type": "code",
   "execution_count": null,
   "metadata": {},
   "outputs": [],
   "source": [
    "# Accuracy\n",
    "(61331+17755)/(61331+17755+15846+4604)"
   ]
  },
  {
   "cell_type": "markdown",
   "metadata": {},
   "source": [
    "## 15 - Prédictions sur le jeu de test"
   ]
  },
  {
   "cell_type": "markdown",
   "metadata": {},
   "source": [
    "#### On applique les mêmes transformations que pour le jeu d'entraînement"
   ]
  },
  {
   "cell_type": "code",
   "execution_count": 63,
   "metadata": {},
   "outputs": [],
   "source": [
    "# Standardisation\n",
    "scaler = RobustScaler().fit(X_test)\n",
    "X_test_scale = scaler.transform(X_test)"
   ]
  },
  {
   "cell_type": "markdown",
   "metadata": {},
   "source": [
    "#### Calcul des prédictions sur le jeu de test"
   ]
  },
  {
   "cell_type": "code",
   "execution_count": 64,
   "metadata": {},
   "outputs": [
    {
     "name": "stderr",
     "output_type": "stream",
     "text": [
      "[Parallel(n_jobs=2)]: Using backend LokyBackend with 2 concurrent workers.\n",
      "[Parallel(n_jobs=2)]: Done   2 out of   2 | elapsed:    0.7s remaining:    0.0s\n",
      "[Parallel(n_jobs=2)]: Done   2 out of   2 | elapsed:    0.7s finished\n"
     ]
    }
   ],
   "source": [
    "y_test_pred_proba_best = clf_best.predict_proba(X_test_scale)[:,1]"
   ]
  },
  {
   "cell_type": "markdown",
   "metadata": {},
   "source": [
    "#### Calcul du log-loss"
   ]
  },
  {
   "cell_type": "code",
   "execution_count": 65,
   "metadata": {},
   "outputs": [
    {
     "data": {
      "text/plain": [
       "0.5898802293229052"
      ]
     },
     "execution_count": 65,
     "metadata": {},
     "output_type": "execute_result"
    }
   ],
   "source": [
    "log_loss(y_test, y_test_pred_proba_best)"
   ]
  },
  {
   "cell_type": "markdown",
   "metadata": {},
   "source": [
    "#### Aire sous la courbe"
   ]
  },
  {
   "cell_type": "code",
   "execution_count": 66,
   "metadata": {},
   "outputs": [
    {
     "name": "stdout",
     "output_type": "stream",
     "text": [
      "AUC = 0.770922322417339\n"
     ]
    }
   ],
   "source": [
    "print(f'AUC = {roc_auc_score(y_test, y_test_pred_proba_best)}')"
   ]
  },
  {
   "cell_type": "markdown",
   "metadata": {},
   "source": [
    "#### Courbe ROC"
   ]
  },
  {
   "cell_type": "code",
   "execution_count": 69,
   "metadata": {},
   "outputs": [
    {
     "data": {
      "image/png": "[encoded data removed]",
      "text/plain": [
       "<Figure size 432x432 with 1 Axes>"
      ]
     },
     "metadata": {},
     "output_type": "display_data"
    }
   ],
   "source": [
    "fpr_rf, tpr_rf, thresholds = roc_curve(y_test, y_test_pred_proba_best)\n",
    "\n",
    "fig = plt.figure(4, figsize=(6, 6))\n",
    "\n",
    "plt.plot([0, 1], [0, 1], 'k--')\n",
    "plt.plot(fpr_rf, tpr_rf, label='Meilleur modèle')\n",
    "plt.xlabel('False positive rate')\n",
    "plt.ylabel('True positive rate')\n",
    "plt.title('ROC curve')\n",
    "plt.show()"
   ]
  },
  {
   "cell_type": "markdown",
   "metadata": {},
   "source": [
    "#### Recherche du meilleur seuil"
   ]
  },
  {
   "cell_type": "code",
   "execution_count": 73,
   "metadata": {},
   "outputs": [
    {
     "data": {
      "text/plain": [
       "0.2734860148231723"
      ]
     },
     "execution_count": 73,
     "metadata": {},
     "output_type": "execute_result"
    }
   ],
   "source": [
    "selected_threshold = thresholds[np.argmax(-fpr_rf + tpr_rf)]\n",
    "selected_threshold"
   ]
  },
  {
   "cell_type": "markdown",
   "metadata": {},
   "source": [
    "#### Score F1"
   ]
  },
  {
   "cell_type": "code",
   "execution_count": 74,
   "metadata": {},
   "outputs": [
    {
     "data": {
      "text/plain": [
       "0.7724867724867726"
      ]
     },
     "execution_count": 74,
     "metadata": {},
     "output_type": "execute_result"
    }
   ],
   "source": [
    "f1_score(y_test, y_test_pred_proba_best > selected_threshold) # Attention, utiliser le seuil trouvé par validation croisée !"
   ]
  },
  {
   "cell_type": "markdown",
   "metadata": {},
   "source": [
    "#### Matrice de confusion"
   ]
  },
  {
   "cell_type": "code",
   "execution_count": 82,
   "metadata": {},
   "outputs": [
    {
     "name": "stdout",
     "output_type": "stream",
     "text": [
      "Confusion matrix, without normalization\n"
     ]
    },
    {
     "data": {
      "image/png": "[encoded data removed]",
      "text/plain": [
       "<Figure size 432x432 with 1 Axes>"
      ]
     },
     "metadata": {
      "needs_background": "light"
     },
     "output_type": "display_data"
    }
   ],
   "source": [
    "fig = plt.figure(3, figsize=(6, 6))\n",
    "\n",
    "cnf_matrix = confusion_matrix(y_test, y_test_pred_proba_best > selected_threshold)\n",
    "np.set_printoptions(precision=2)\n",
    "plot_confusion_matrix(cnf_matrix, classes=['0','1'], title='Matrice de confusion')"
   ]
  },
  {
   "cell_type": "code",
   "execution_count": 83,
   "metadata": {},
   "outputs": [
    {
     "data": {
      "text/plain": [
       "0.7304075235109718"
      ]
     },
     "execution_count": 83,
     "metadata": {},
     "output_type": "execute_result"
    }
   ],
   "source": [
    "# Accuracy\n",
    "(87+146)/(87+60+26+146)"
   ]
  },
  {
   "cell_type": "code",
   "execution_count": null,
   "metadata": {},
   "outputs": [],
   "source": []
  }
 ],
 "metadata": {
  "kernelspec": {
   "display_name": "Python 3",
   "language": "python",
   "name": "python3"
  },
  "language_info": {
   "codemirror_mode": {
    "name": "ipython",
    "version": 3
   },
   "file_extension": ".py",
   "mimetype": "text/x-python",
   "name": "python",
   "nbconvert_exporter": "python",
   "pygments_lexer": "ipython3",
   "version": "3.6.9"
  }
 },
 "nbformat": 4,
 "nbformat_minor": 4
}
