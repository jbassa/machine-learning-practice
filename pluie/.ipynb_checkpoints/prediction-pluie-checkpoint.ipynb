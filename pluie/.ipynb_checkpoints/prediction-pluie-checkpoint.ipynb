{
 "cells": [
  {
   "cell_type": "markdown",
   "metadata": {},
   "source": [
    "420-A52-SF - Algorithmes d'apprentissage supervisé - Hiver 2020 - Spécialisation technique en Intelligence Artificielle - Joel BASSA.\n",
    "<br/>\n",
    "![Correction Projet #1](static/projet1-banner.png)"
   ]
  },
  {
   "cell_type": "code",
   "execution_count": 1,
   "metadata": {},
   "outputs": [],
   "source": [
    "%reload_ext autoreload\n",
    "%autoreload 2\n",
    "%matplotlib inline"
   ]
  },
  {
   "cell_type": "markdown",
   "metadata": {},
   "source": [
    "## 0 - Chargement des bibliothèques"
   ]
  },
  {
   "cell_type": "code",
   "execution_count": 126,
   "metadata": {},
   "outputs": [],
   "source": [
    "# Manipulation de données\n",
    "import numpy as np\n",
    "import pandas as pd\n",
    "\n",
    "# Visualisation de données\n",
    "import matplotlib.pyplot as plt\n",
    "import seaborn as sns\n",
    "\n",
    "# Helpers\n",
    "#from helpers import polynomial\n",
    "\n",
    "# Outils divers\n",
    "import time\n",
    "from collections import defaultdict\n",
    "\n",
    "# Machine Learning\n",
    "from sklearn.linear_model import LinearRegression\n",
    "from sklearn.linear_model import LogisticRegression\n",
    "from sklearn.preprocessing import StandardScaler\n",
    "from sklearn.model_selection import train_test_split\n",
    "from sklearn.model_selection import cross_val_score\n",
    "from sklearn.model_selection import RandomizedSearchCV\n",
    "from sklearn.linear_model import LogisticRegressionCV\n",
    "from sklearn.utils.fixes import loguniform\n",
    "from sklearn.metrics import roc_auc_score\n",
    "from helpers import plot_roc_curve\n",
    "from scipy.stats import randint\n",
    "from sklearn.tree import DecisionTreeClassifier\n",
    "from sklearn.ensemble import BaggingClassifier"
   ]
  },
  {
   "cell_type": "markdown",
   "metadata": {},
   "source": [
    "## 1 - Chargement du jeu de données et exploration sommaire"
   ]
  },
  {
   "cell_type": "markdown",
   "metadata": {},
   "source": [
    "<strong>Lecture du fichier `AUS_train.csv`<strong/>"
   ]
  },
  {
   "cell_type": "code",
   "execution_count": 3,
   "metadata": {},
   "outputs": [],
   "source": [
    "AUS = pd.read_csv('AUS_train.csv', index_col=[0])"
   ]
  },
  {
   "cell_type": "markdown",
   "metadata": {},
   "source": [
    "<strong>Affichage des dix premières lignes de la trame de données AUS</strong>"
   ]
  },
  {
   "cell_type": "code",
   "execution_count": 4,
   "metadata": {},
   "outputs": [
    {
     "data": {
      "text/html": [
       "<div>\n",
       "<style scoped>\n",
       "    .dataframe tbody tr th:only-of-type {\n",
       "        vertical-align: middle;\n",
       "    }\n",
       "\n",
       "    .dataframe tbody tr th {\n",
       "        vertical-align: top;\n",
       "    }\n",
       "\n",
       "    .dataframe thead th {\n",
       "        text-align: right;\n",
       "    }\n",
       "</style>\n",
       "<table border=\"1\" class=\"dataframe\">\n",
       "  <thead>\n",
       "    <tr style=\"text-align: right;\">\n",
       "      <th></th>\n",
       "      <th>Date</th>\n",
       "      <th>Location</th>\n",
       "      <th>MinTemp</th>\n",
       "      <th>MaxTemp</th>\n",
       "      <th>Rainfall</th>\n",
       "      <th>Evaporation</th>\n",
       "      <th>Sunshine</th>\n",
       "      <th>WindGustDir</th>\n",
       "      <th>WindGustSpeed</th>\n",
       "      <th>WindDir9am</th>\n",
       "      <th>...</th>\n",
       "      <th>Humidity9am</th>\n",
       "      <th>Humidity3pm</th>\n",
       "      <th>Pressure9am</th>\n",
       "      <th>Pressure3pm</th>\n",
       "      <th>Cloud9am</th>\n",
       "      <th>Cloud3pm</th>\n",
       "      <th>Temp9am</th>\n",
       "      <th>Temp3pm</th>\n",
       "      <th>RainToday</th>\n",
       "      <th>RainTomorrow</th>\n",
       "    </tr>\n",
       "  </thead>\n",
       "  <tbody>\n",
       "    <tr>\n",
       "      <th>0</th>\n",
       "      <td>2008-12-01</td>\n",
       "      <td>Albury</td>\n",
       "      <td>13.4</td>\n",
       "      <td>22.9</td>\n",
       "      <td>0.6</td>\n",
       "      <td>4.8</td>\n",
       "      <td>8.5</td>\n",
       "      <td>W</td>\n",
       "      <td>44.0</td>\n",
       "      <td>W</td>\n",
       "      <td>...</td>\n",
       "      <td>71.0</td>\n",
       "      <td>22.0</td>\n",
       "      <td>1007.7</td>\n",
       "      <td>1007.1</td>\n",
       "      <td>8.0</td>\n",
       "      <td>5.0</td>\n",
       "      <td>16.9</td>\n",
       "      <td>21.8</td>\n",
       "      <td>No</td>\n",
       "      <td>No</td>\n",
       "    </tr>\n",
       "    <tr>\n",
       "      <th>2</th>\n",
       "      <td>2008-12-03</td>\n",
       "      <td>Albury</td>\n",
       "      <td>12.9</td>\n",
       "      <td>25.7</td>\n",
       "      <td>0.0</td>\n",
       "      <td>4.8</td>\n",
       "      <td>8.5</td>\n",
       "      <td>WSW</td>\n",
       "      <td>46.0</td>\n",
       "      <td>W</td>\n",
       "      <td>...</td>\n",
       "      <td>38.0</td>\n",
       "      <td>30.0</td>\n",
       "      <td>1007.6</td>\n",
       "      <td>1008.7</td>\n",
       "      <td>5.0</td>\n",
       "      <td>2.0</td>\n",
       "      <td>21.0</td>\n",
       "      <td>23.2</td>\n",
       "      <td>No</td>\n",
       "      <td>No</td>\n",
       "    </tr>\n",
       "    <tr>\n",
       "      <th>3</th>\n",
       "      <td>2008-12-04</td>\n",
       "      <td>Albury</td>\n",
       "      <td>9.2</td>\n",
       "      <td>28.0</td>\n",
       "      <td>0.0</td>\n",
       "      <td>4.8</td>\n",
       "      <td>8.5</td>\n",
       "      <td>NE</td>\n",
       "      <td>24.0</td>\n",
       "      <td>SE</td>\n",
       "      <td>...</td>\n",
       "      <td>45.0</td>\n",
       "      <td>16.0</td>\n",
       "      <td>1017.6</td>\n",
       "      <td>1012.8</td>\n",
       "      <td>5.0</td>\n",
       "      <td>5.0</td>\n",
       "      <td>18.1</td>\n",
       "      <td>26.5</td>\n",
       "      <td>No</td>\n",
       "      <td>No</td>\n",
       "    </tr>\n",
       "    <tr>\n",
       "      <th>5</th>\n",
       "      <td>2008-12-06</td>\n",
       "      <td>Albury</td>\n",
       "      <td>14.6</td>\n",
       "      <td>29.7</td>\n",
       "      <td>0.2</td>\n",
       "      <td>4.8</td>\n",
       "      <td>8.5</td>\n",
       "      <td>WNW</td>\n",
       "      <td>56.0</td>\n",
       "      <td>W</td>\n",
       "      <td>...</td>\n",
       "      <td>55.0</td>\n",
       "      <td>23.0</td>\n",
       "      <td>1009.2</td>\n",
       "      <td>1005.4</td>\n",
       "      <td>5.0</td>\n",
       "      <td>5.0</td>\n",
       "      <td>20.6</td>\n",
       "      <td>28.9</td>\n",
       "      <td>No</td>\n",
       "      <td>No</td>\n",
       "    </tr>\n",
       "    <tr>\n",
       "      <th>6</th>\n",
       "      <td>2008-12-07</td>\n",
       "      <td>Albury</td>\n",
       "      <td>14.3</td>\n",
       "      <td>25.0</td>\n",
       "      <td>0.0</td>\n",
       "      <td>4.8</td>\n",
       "      <td>8.5</td>\n",
       "      <td>W</td>\n",
       "      <td>50.0</td>\n",
       "      <td>SW</td>\n",
       "      <td>...</td>\n",
       "      <td>49.0</td>\n",
       "      <td>19.0</td>\n",
       "      <td>1009.6</td>\n",
       "      <td>1008.2</td>\n",
       "      <td>1.0</td>\n",
       "      <td>5.0</td>\n",
       "      <td>18.1</td>\n",
       "      <td>24.6</td>\n",
       "      <td>No</td>\n",
       "      <td>No</td>\n",
       "    </tr>\n",
       "  </tbody>\n",
       "</table>\n",
       "<p>5 rows × 23 columns</p>\n",
       "</div>"
      ],
      "text/plain": [
       "         Date Location  MinTemp  MaxTemp  Rainfall  Evaporation  Sunshine  \\\n",
       "0  2008-12-01   Albury     13.4     22.9       0.6          4.8       8.5   \n",
       "2  2008-12-03   Albury     12.9     25.7       0.0          4.8       8.5   \n",
       "3  2008-12-04   Albury      9.2     28.0       0.0          4.8       8.5   \n",
       "5  2008-12-06   Albury     14.6     29.7       0.2          4.8       8.5   \n",
       "6  2008-12-07   Albury     14.3     25.0       0.0          4.8       8.5   \n",
       "\n",
       "  WindGustDir  WindGustSpeed WindDir9am  ... Humidity9am  Humidity3pm  \\\n",
       "0           W           44.0          W  ...        71.0         22.0   \n",
       "2         WSW           46.0          W  ...        38.0         30.0   \n",
       "3          NE           24.0         SE  ...        45.0         16.0   \n",
       "5         WNW           56.0          W  ...        55.0         23.0   \n",
       "6           W           50.0         SW  ...        49.0         19.0   \n",
       "\n",
       "   Pressure9am  Pressure3pm  Cloud9am  Cloud3pm  Temp9am  Temp3pm  RainToday  \\\n",
       "0       1007.7       1007.1       8.0       5.0     16.9     21.8         No   \n",
       "2       1007.6       1008.7       5.0       2.0     21.0     23.2         No   \n",
       "3       1017.6       1012.8       5.0       5.0     18.1     26.5         No   \n",
       "5       1009.2       1005.4       5.0       5.0     20.6     28.9         No   \n",
       "6       1009.6       1008.2       1.0       5.0     18.1     24.6         No   \n",
       "\n",
       "   RainTomorrow  \n",
       "0            No  \n",
       "2            No  \n",
       "3            No  \n",
       "5            No  \n",
       "6            No  \n",
       "\n",
       "[5 rows x 23 columns]"
      ]
     },
     "execution_count": 4,
     "metadata": {},
     "output_type": "execute_result"
    }
   ],
   "source": [
    "AUS.head(5)"
   ]
  },
  {
   "cell_type": "markdown",
   "metadata": {},
   "source": [
    "<strong>Affichage du nombre d'observations</strong>"
   ]
  },
  {
   "cell_type": "code",
   "execution_count": 5,
   "metadata": {},
   "outputs": [
    {
     "data": {
      "text/plain": [
       "(99536, 23)"
      ]
     },
     "execution_count": 5,
     "metadata": {},
     "output_type": "execute_result"
    }
   ],
   "source": [
    "AUS.shape"
   ]
  },
  {
   "cell_type": "markdown",
   "metadata": {},
   "source": [
    "#### Affichage du nom des variables indicatrices"
   ]
  },
  {
   "cell_type": "code",
   "execution_count": 6,
   "metadata": {},
   "outputs": [
    {
     "data": {
      "text/plain": [
       "Index(['Date', 'Location', 'MinTemp', 'MaxTemp', 'Rainfall', 'Evaporation',\n",
       "       'Sunshine', 'WindGustDir', 'WindGustSpeed', 'WindDir9am', 'WindDir3pm',\n",
       "       'WindSpeed9am', 'WindSpeed3pm', 'Humidity9am', 'Humidity3pm',\n",
       "       'Pressure9am', 'Pressure3pm', 'Cloud9am', 'Cloud3pm', 'Temp9am',\n",
       "       'Temp3pm', 'RainToday', 'RainTomorrow'],\n",
       "      dtype='object')"
      ]
     },
     "execution_count": 6,
     "metadata": {},
     "output_type": "execute_result"
    }
   ],
   "source": [
    "AUS.columns"
   ]
  },
  {
   "cell_type": "markdown",
   "metadata": {},
   "source": [
    "| Variable        | Description           | Type  |\n",
    "| --------------- |:--------------------- |:----- |\n",
    "| Date      | Date d'un jour de l'année | qualitative |\n",
    "| Location      | Ville de l'australie      |   qualitative |\n",
    "| MinTemp | Température minimale en dégré    |  quantitative |\n",
    "| MaxTemp | Température maximale en dégré | quantitative |\n",
    "| Rainfall| Preciptations | quantitative | \n",
    "| Evaporation | Evaporation de l'eau de pluie| quantitative |\n",
    "| Sunshine| dégré d'ensoleillement| quantitative |\n",
    "| WindGustDir | Direction rafale de vent| qualitative |\n",
    "| WindGustSpeed | Vitesse rafale de vent (en mph)| quantitative |\n",
    "| WindDir9am | Direction du vent à 9h du matin | qualitative |\n",
    "| WindDir3pm | Direction du vent à 3h après-midi | qualitative |\n",
    "| WindSpeed9am | Vitesse du vent (en mph) à 9h du matin  |   quantitative |\n",
    "| WindSpeed3pm | Vitesse du vent (en mph) à 3h après-midi  | quantitative |\n",
    "| Humidity9am | Humidité relative à 9h du matin   | quantitative |\n",
    "| Humidity3pm | Humidité relative à 3h après-midi  | quantitative |\n",
    "| Pressure9am | Pression atmosohérique à 9h du matin  (en hPa)| quantitative |\n",
    "| Pressure3pm | Pression atmosohérique à 3h après-midi  | quantitative |\n",
    "| Cloud9am | Taille des nuages (en km) à 9h du matin   | quantitative |\n",
    "| Cloud3pm | Taille des nuages (en km) à 3h après-midi  | quantitative |\n",
    "| Temp9am | Température à 9h du matin | quantitative |\n",
    "| Temp3pm | Température à 3h après-midi | quantitative |\n",
    "| RainToday |  indicatrice de la présence de pluie à la date indiquée (Yes s'il y a pluie, No sinon) | qualitative |\n",
    "| RainTomorrow|  indicatrice de la présence de pluie le lendemain de la date indiquée (Yes s'il y a pluie, No sinon) | qualitative |"
   ]
  },
  {
   "cell_type": "markdown",
   "metadata": {},
   "source": [
    "#### Vérifions le balancement des classes"
   ]
  },
  {
   "cell_type": "code",
   "execution_count": 7,
   "metadata": {},
   "outputs": [
    {
     "data": {
      "image/png": "[encoded data removed]",
      "text/plain": [
       "<Figure size 432x288 with 1 Axes>"
      ]
     },
     "metadata": {
      "needs_background": "light"
     },
     "output_type": "display_data"
    }
   ],
   "source": [
    "sns.countplot(x='RainTomorrow', hue='RainTomorrow', data=AUS)\n",
    "plt.xlabel('RainTomorrow Class')\n",
    "plt.ylabel('Nbre d''observations')\n",
    "plt.show()"
   ]
  },
  {
   "cell_type": "markdown",
   "metadata": {},
   "source": [
    "On remarque qu'il y'a un débalancement leger des classes. Nous verrons par la suite en fonction des résultats de prédictions s'il y a eu de l'addresser."
   ]
  },
  {
   "cell_type": "markdown",
   "metadata": {},
   "source": [
    "## 2 - Modèle de référence"
   ]
  },
  {
   "cell_type": "markdown",
   "metadata": {},
   "source": [
    "Nous allons prédire la classe la plus fréquente."
   ]
  },
  {
   "cell_type": "code",
   "execution_count": 8,
   "metadata": {},
   "outputs": [],
   "source": [
    "from sklearn.dummy import DummyClassifier"
   ]
  },
  {
   "cell_type": "code",
   "execution_count": 9,
   "metadata": {},
   "outputs": [],
   "source": [
    "y = (AUS['RainTomorrow'] == \"Yes\").astype(int)"
   ]
  },
  {
   "cell_type": "code",
   "execution_count": 10,
   "metadata": {},
   "outputs": [
    {
     "data": {
      "text/plain": [
       "DummyClassifier(constant=None, random_state=None, strategy='most_frequent')"
      ]
     },
     "execution_count": 10,
     "metadata": {},
     "output_type": "execute_result"
    }
   ],
   "source": [
    "baseline_clf = DummyClassifier(strategy='most_frequent') \n",
    "baseline_clf.fit(AUS.values, y)"
   ]
  },
  {
   "cell_type": "code",
   "execution_count": 11,
   "metadata": {},
   "outputs": [],
   "source": [
    "from sklearn.metrics import accuracy_score"
   ]
  },
  {
   "cell_type": "code",
   "execution_count": 12,
   "metadata": {},
   "outputs": [
    {
     "name": "stdout",
     "output_type": "stream",
     "text": [
      "Performance du modèle de référence (dummy): 77.53677061565665%\n"
     ]
    }
   ],
   "source": [
    "y_pred_train = baseline_clf.predict(AUS)\n",
    "acc_baseline = accuracy_score(y_pred_train, y)\n",
    "print(f'Performance du modèle de référence (dummy): {100*acc_baseline}%')"
   ]
  },
  {
   "cell_type": "markdown",
   "metadata": {},
   "source": [
    "Ce modèle simpliste permet de prédire à 77.53% qu'il pleuvra demain. Nous allons tenter d'améliorer cette performance en selectionnant les variables au fur et à mesure."
   ]
  },
  {
   "cell_type": "markdown",
   "metadata": {},
   "source": [
    "## 3 - Entraînement d'un classificateur (régression logistique)"
   ]
  },
  {
   "cell_type": "markdown",
   "metadata": {},
   "source": [
    "Nous allons maintenant inclure de nouvelles variables dans le modèle. Bien sûr, n'oublions pas d'ajouter celle qui semble la plus significative, `RainToday`"
   ]
  },
  {
   "cell_type": "code",
   "execution_count": 13,
   "metadata": {},
   "outputs": [],
   "source": [
    "df = pd.DataFrame()"
   ]
  },
  {
   "cell_type": "markdown",
   "metadata": {},
   "source": [
    "## RainToday"
   ]
  },
  {
   "cell_type": "markdown",
   "metadata": {},
   "source": [
    "`RainToday` est une variable catégorique booléene qu'il faudra convertir en numérique"
   ]
  },
  {
   "cell_type": "code",
   "execution_count": 14,
   "metadata": {},
   "outputs": [
    {
     "data": {
      "text/plain": [
       "array(['No', 'Yes'], dtype=object)"
      ]
     },
     "execution_count": 14,
     "metadata": {},
     "output_type": "execute_result"
    }
   ],
   "source": [
    "AUS['RainToday'].unique()"
   ]
  },
  {
   "cell_type": "code",
   "execution_count": 15,
   "metadata": {},
   "outputs": [
    {
     "data": {
      "text/plain": [
       "False"
      ]
     },
     "execution_count": 15,
     "metadata": {},
     "output_type": "execute_result"
    }
   ],
   "source": [
    "AUS['RainToday'].isnull().values.any()"
   ]
  },
  {
   "cell_type": "code",
   "execution_count": 16,
   "metadata": {},
   "outputs": [],
   "source": [
    "df['RainToday'] = (AUS['RainToday'] == \"Yes\").astype(int)"
   ]
  },
  {
   "cell_type": "markdown",
   "metadata": {},
   "source": [
    "## Temp3pm,Temp9am,Cloud3pm,Cloud9am,Pressure3pm ,Pressure9m,Humidity3pm,Humidity9m,WindSpeed3pm,WindSpeed9am, WindGustSpeed,Sunshine,Evaporation,Rainfall,MaxTemp,MinTemp"
   ]
  },
  {
   "cell_type": "markdown",
   "metadata": {},
   "source": [
    "Toutes ces variables quantitatives sont significatives. Intégrons les donc dans notre modèle"
   ]
  },
  {
   "cell_type": "code",
   "execution_count": 17,
   "metadata": {},
   "outputs": [],
   "source": [
    "df['Temp3pm'] = AUS['Temp3pm']\n",
    "df['Temp9am'] = AUS['Temp9am']\n",
    "df['Cloud3pm'] = AUS['Cloud3pm']\n",
    "df['Cloud9am'] = AUS['Cloud9am']\n",
    "df['Pressure3pm'] = AUS['Pressure3pm']\n",
    "df['Pressure9am'] = AUS['Pressure9am']\n",
    "df['Humidity3pm'] = AUS['Humidity3pm']\n",
    "df['Humidity9am'] = AUS['Humidity9am']\n",
    "df['WindSpeed3pm'] = AUS['WindSpeed3pm']\n",
    "df['WindGustSpeed'] = AUS['WindGustSpeed']\n",
    "df['Sunshine'] = AUS['Sunshine']\n",
    "df['Evaporation'] = AUS['Evaporation']\n",
    "df['Rainfall'] = AUS['Rainfall']\n",
    "df['MaxTemp'] = AUS['MaxTemp']\n",
    "df['MinTemp'] = AUS['MinTemp']"
   ]
  },
  {
   "cell_type": "code",
   "execution_count": 18,
   "metadata": {},
   "outputs": [
    {
     "data": {
      "text/plain": [
       "False"
      ]
     },
     "execution_count": 18,
     "metadata": {},
     "output_type": "execute_result"
    }
   ],
   "source": [
    "AUS['RainToday'].isnull().values.any()"
   ]
  },
  {
   "cell_type": "code",
   "execution_count": 19,
   "metadata": {},
   "outputs": [],
   "source": [
    "logreg = LogisticRegression(penalty=\"none\", fit_intercept=True, max_iter=1000).fit(df, y)"
   ]
  },
  {
   "cell_type": "code",
   "execution_count": 20,
   "metadata": {},
   "outputs": [
    {
     "data": {
      "text/plain": [
       "84.08615978138563"
      ]
     },
     "execution_count": 20,
     "metadata": {},
     "output_type": "execute_result"
    }
   ],
   "source": [
    "accuracy_score(logreg.predict(df), y) * 100"
   ]
  },
  {
   "cell_type": "markdown",
   "metadata": {},
   "source": [
    "## Location"
   ]
  },
  {
   "cell_type": "markdown",
   "metadata": {},
   "source": [
    "Etant donné que le problème à résourdre est de predire s'il pleuvra demain en **Australie**, considerer une ville spécifique importe peu. Par conséquent cette variable peut etre ignorée."
   ]
  },
  {
   "cell_type": "code",
   "execution_count": 21,
   "metadata": {},
   "outputs": [
    {
     "data": {
      "text/plain": [
       "array(['Albury', 'BadgerysCreek', 'Cobar', 'CoffsHarbour', 'Moree',\n",
       "       'Newcastle', 'NorahHead', 'NorfolkIsland', 'Penrith', 'Richmond',\n",
       "       'Sydney', 'SydneyAirport', 'WaggaWagga', 'Williamtown',\n",
       "       'Wollongong', 'Canberra', 'Tuggeranong', 'MountGinini', 'Ballarat',\n",
       "       'Bendigo', 'Sale', 'MelbourneAirport', 'Melbourne', 'Mildura',\n",
       "       'Nhil', 'Portland', 'Watsonia', 'Dartmoor', 'Brisbane', 'Cairns',\n",
       "       'GoldCoast', 'Townsville', 'Adelaide', 'MountGambier', 'Nuriootpa',\n",
       "       'Woomera', 'Albany', 'Witchcliffe', 'PearceRAAF', 'PerthAirport',\n",
       "       'Perth', 'SalmonGums', 'Walpole', 'Hobart', 'Launceston',\n",
       "       'AliceSprings', 'Darwin', 'Katherine', 'Uluru'], dtype=object)"
      ]
     },
     "execution_count": 21,
     "metadata": {},
     "output_type": "execute_result"
    }
   ],
   "source": [
    "AUS['Location'].unique()"
   ]
  },
  {
   "cell_type": "markdown",
   "metadata": {},
   "source": [
    "## WindGustDir,WindDir9am,WindDir3pm"
   ]
  },
  {
   "cell_type": "code",
   "execution_count": 22,
   "metadata": {},
   "outputs": [
    {
     "data": {
      "text/plain": [
       "array(['W', 'WSW', 'NE', 'WNW', 'N', 'NNE', 'SW', 'ENE', 'SSE', 'S',\n",
       "       'NNW', 'NW', 'SE', 'ESE', 'E', 'SSW'], dtype=object)"
      ]
     },
     "execution_count": 22,
     "metadata": {},
     "output_type": "execute_result"
    }
   ],
   "source": [
    "AUS['WindGustDir'].unique()"
   ]
  },
  {
   "cell_type": "code",
   "execution_count": 23,
   "metadata": {},
   "outputs": [
    {
     "data": {
      "text/plain": [
       "array(['W', 'SE', 'SW', 'SSE', 'S', 'NE', 'NNW', 'SSW', 'N', 'WSW', 'NW',\n",
       "       'WNW', 'ENE', 'NNE', 'ESE', 'E'], dtype=object)"
      ]
     },
     "execution_count": 23,
     "metadata": {},
     "output_type": "execute_result"
    }
   ],
   "source": [
    "AUS['WindDir9am'].unique()"
   ]
  },
  {
   "cell_type": "code",
   "execution_count": 24,
   "metadata": {},
   "outputs": [
    {
     "data": {
      "text/plain": [
       "array(['WNW', 'WSW', 'E', 'W', 'SSE', 'ESE', 'ENE', 'NNW', 'SSW', 'SW',\n",
       "       'SE', 'N', 'NW', 'NNE', 'NE', 'S'], dtype=object)"
      ]
     },
     "execution_count": 24,
     "metadata": {},
     "output_type": "execute_result"
    }
   ],
   "source": [
    "AUS['WindDir3pm'].unique()"
   ]
  },
  {
   "cell_type": "markdown",
   "metadata": {},
   "source": [
    "Toutes ces variables quantitatives ne seront pas prises en compte dans notre modèle,car nous avons leur équivalent  matérialisant la vitesse du vent."
   ]
  },
  {
   "cell_type": "markdown",
   "metadata": {},
   "source": [
    "## Date"
   ]
  },
  {
   "cell_type": "markdown",
   "metadata": {},
   "source": [
    "Nous pouvons ignorer la date du jour puisqu'elle ne donne aucune informnation utile. La variable `RainToday` est largement suffisante. "
   ]
  },
  {
   "cell_type": "markdown",
   "metadata": {},
   "source": [
    "Sauveagarde de notre meilleur modèle à date."
   ]
  },
  {
   "cell_type": "code",
   "execution_count": 25,
   "metadata": {},
   "outputs": [],
   "source": [
    "lr_best = logreg"
   ]
  },
  {
   "cell_type": "markdown",
   "metadata": {},
   "source": [
    "#### Aire sous la courbe"
   ]
  },
  {
   "cell_type": "code",
   "execution_count": 26,
   "metadata": {},
   "outputs": [
    {
     "name": "stdout",
     "output_type": "stream",
     "text": [
      "AUC = 0.8579769956064509\n"
     ]
    }
   ],
   "source": [
    "y_train_pred_proba_logreg_base = lr_best.predict_proba(df)[:,1]\n",
    "print(f'AUC = {roc_auc_score(y, y_train_pred_proba_logreg_base)}')"
   ]
  },
  {
   "cell_type": "markdown",
   "metadata": {},
   "source": [
    "#### Courbe ROC"
   ]
  },
  {
   "cell_type": "code",
   "execution_count": 27,
   "metadata": {},
   "outputs": [
    {
     "data": {
      "image/png": "[encoded data removed]",
      "text/plain": [
       "<Figure size 864x864 with 1 Axes>"
      ]
     },
     "metadata": {
      "needs_background": "light"
     },
     "output_type": "display_data"
    }
   ],
   "source": [
    "results = {}\n",
    "results['Logistic Regression Base'] = y_train_pred_proba_logreg_base\n",
    "plot_roc_curve(results, y)"
   ]
  },
  {
   "cell_type": "markdown",
   "metadata": {},
   "source": [
    "## 4 - Recherche aléatoire (Regression Logistique / Arbre de décision / Gradient Boosting"
   ]
  },
  {
   "cell_type": "markdown",
   "metadata": {},
   "source": [
    "Etant donné que notre jeu de données est large `99536 observations`, nous entrainerons un ensemble d'algorithmes sur un sous-ensemble (`5%`), afin de selectionner le plus performant. Ensuite, nous pourrions augmenter graduellement nos données et entrainer uniquement ce algorithme sélectionné. "
   ]
  },
  {
   "cell_type": "code",
   "execution_count": 28,
   "metadata": {},
   "outputs": [],
   "source": [
    "#Fonction permettant de faire un subset avec un pourcentage défini.\n",
    "def subset(dataframe,size):\n",
    "    df_split = train_test_split(dataframe, train_size=size, shuffle=False)\n",
    "    return df_split[0]"
   ]
  },
  {
   "cell_type": "markdown",
   "metadata": {},
   "source": [
    "**Standardisation de notre dataset**"
   ]
  },
  {
   "cell_type": "code",
   "execution_count": 29,
   "metadata": {},
   "outputs": [],
   "source": [
    "# Standardisation\n",
    "scaler = StandardScaler()\n",
    "scaler.fit(df)\n",
    "df_scaled = scaler.transform(df)"
   ]
  },
  {
   "cell_type": "markdown",
   "metadata": {},
   "source": [
    "### 5% du jeu de données (4976 observations)"
   ]
  },
  {
   "cell_type": "code",
   "execution_count": 30,
   "metadata": {},
   "outputs": [],
   "source": [
    "X_train_5 = subset(df_scaled, 0.05)\n",
    "y_train_5 = subset(y, 0.05)"
   ]
  },
  {
   "cell_type": "code",
   "execution_count": 31,
   "metadata": {},
   "outputs": [
    {
     "data": {
      "text/plain": [
       "(4976, 16)"
      ]
     },
     "execution_count": 31,
     "metadata": {},
     "output_type": "execute_result"
    }
   ],
   "source": [
    "X_train_5.shape"
   ]
  },
  {
   "cell_type": "markdown",
   "metadata": {},
   "source": [
    "### 3-1 - Régression logistique avec recherche aléatoire"
   ]
  },
  {
   "cell_type": "code",
   "execution_count": 32,
   "metadata": {},
   "outputs": [],
   "source": [
    "# Grid\n",
    "parameters = {'C':[0.01, 0.1, 1, 10, 100],\n",
    "              'l1_ratio':[0, 0.5, 1]}\n",
    "\n",
    "distributions = dict(\n",
    "    C=loguniform(0.5, 1e3),\n",
    "    l1_ratio=loguniform(0.1, 1))\n",
    "\n",
    "# Estimator\n",
    "clf_logreg = LogisticRegression(penalty='elasticnet',\n",
    "                                  max_iter=10000,\n",
    "                                  solver='saga',\n",
    "                                  random_state=2020)\n",
    "\n",
    "# GridSearch avec Validation croisée\n",
    "clf_logreg_rnd = RandomizedSearchCV(clf_logreg, distributions, cv=5, scoring=\"roc_auc\", verbose=1, n_jobs=8)"
   ]
  },
  {
   "cell_type": "code",
   "execution_count": 33,
   "metadata": {},
   "outputs": [
    {
     "name": "stdout",
     "output_type": "stream",
     "text": [
      "Fitting 5 folds for each of 10 candidates, totalling 50 fits\n"
     ]
    },
    {
     "name": "stderr",
     "output_type": "stream",
     "text": [
      "[Parallel(n_jobs=8)]: Using backend LokyBackend with 8 concurrent workers.\n",
      "[Parallel(n_jobs=8)]: Done  34 tasks      | elapsed:    9.1s\n",
      "[Parallel(n_jobs=8)]: Done  50 out of  50 | elapsed:   10.6s finished\n"
     ]
    },
    {
     "data": {
      "text/plain": [
       "RandomizedSearchCV(cv=5, error_score=nan,\n",
       "                   estimator=LogisticRegression(C=1.0, class_weight=None,\n",
       "                                                dual=False, fit_intercept=True,\n",
       "                                                intercept_scaling=1,\n",
       "                                                l1_ratio=None, max_iter=10000,\n",
       "                                                multi_class='auto', n_jobs=None,\n",
       "                                                penalty='elasticnet',\n",
       "                                                random_state=2020,\n",
       "                                                solver='saga', tol=0.0001,\n",
       "                                                verbose=0, warm_start=False),\n",
       "                   iid='deprecated', n_iter=10, n_jobs=8,\n",
       "                   param_distributions={'C': <scipy.stats._distn_infrastructure.rv_frozen object at 0x7facabfd3630>,\n",
       "                                        'l1_ratio': <scipy.stats._distn_infrastructure.rv_frozen object at 0x7facabfd39b0>},\n",
       "                   pre_dispatch='2*n_jobs', random_state=None, refit=True,\n",
       "                   return_train_score=False, scoring='roc_auc', verbose=1)"
      ]
     },
     "execution_count": 33,
     "metadata": {},
     "output_type": "execute_result"
    }
   ],
   "source": [
    "clf_logreg_rnd.fit(X_train_5, y_train_5)"
   ]
  },
  {
   "cell_type": "code",
   "execution_count": 34,
   "metadata": {},
   "outputs": [
    {
     "name": "stdout",
     "output_type": "stream",
     "text": [
      "Meilleurs paramètres: {'C': 18.56669718980358, 'l1_ratio': 0.1547269488629726}\n",
      "Meilleur score (mean CV): 0.8868971553123352\n"
     ]
    }
   ],
   "source": [
    "print(f'Meilleurs paramètres: {clf_logreg_rnd.best_params_}')\n",
    "print(f'Meilleur score (mean CV): {clf_logreg_rnd.best_score_}')"
   ]
  },
  {
   "cell_type": "markdown",
   "metadata": {},
   "source": [
    "#### Aire sous la courbe"
   ]
  },
  {
   "cell_type": "code",
   "execution_count": 35,
   "metadata": {},
   "outputs": [
    {
     "name": "stdout",
     "output_type": "stream",
     "text": [
      "AUC = 0.8899384899616627\n"
     ]
    }
   ],
   "source": [
    "y_train_pred_proba_logreg_rscv = clf_logreg_rnd.best_estimator_.predict_proba(X_train_5)[:,1]\n",
    "print(f'AUC = {roc_auc_score(y_train_5, y_train_pred_proba_logreg_rscv)}')"
   ]
  },
  {
   "cell_type": "markdown",
   "metadata": {},
   "source": [
    "#### Courbe ROC"
   ]
  },
  {
   "cell_type": "code",
   "execution_count": 36,
   "metadata": {},
   "outputs": [
    {
     "data": {
      "image/png": "[encoded data removed]",
      "text/plain": [
       "<Figure size 864x864 with 1 Axes>"
      ]
     },
     "metadata": {
      "needs_background": "light"
     },
     "output_type": "display_data"
    }
   ],
   "source": [
    "results = {}\n",
    "results['Logistic Regression RSCV'] = y_train_pred_proba_logreg_rscv\n",
    "plot_roc_curve(results, y_train_5)"
   ]
  },
  {
   "cell_type": "markdown",
   "metadata": {},
   "source": [
    "### 3-2 - Arbres de décision"
   ]
  },
  {
   "cell_type": "code",
   "execution_count": 37,
   "metadata": {},
   "outputs": [],
   "source": [
    "# Distributions des paramètres\n",
    "distributions = dict(\n",
    "    criterion=['gini', 'entropy'],\n",
    "    ccp_alpha=loguniform(1e-3, 1e3),\n",
    "    max_depth=randint(2, 128))\n",
    "\n",
    "# Estimateur\n",
    "clf_tree = DecisionTreeClassifier(random_state=2020)\n",
    "\n",
    "    \n",
    "# Recherche aléatoire avec avec validation croisée\n",
    "clf_tree_rnd = RandomizedSearchCV(clf_tree, distributions, n_iter=100, cv=5, scoring=\"roc_auc\", verbose=1, n_jobs=8, random_state=2020)"
   ]
  },
  {
   "cell_type": "code",
   "execution_count": 38,
   "metadata": {},
   "outputs": [
    {
     "name": "stdout",
     "output_type": "stream",
     "text": [
      "Fitting 5 folds for each of 100 candidates, totalling 500 fits\n"
     ]
    },
    {
     "name": "stderr",
     "output_type": "stream",
     "text": [
      "[Parallel(n_jobs=8)]: Using backend LokyBackend with 8 concurrent workers.\n",
      "[Parallel(n_jobs=8)]: Done  54 tasks      | elapsed:    1.5s\n",
      "[Parallel(n_jobs=8)]: Done 354 tasks      | elapsed:   10.4s\n",
      "[Parallel(n_jobs=8)]: Done 500 out of 500 | elapsed:   14.8s finished\n"
     ]
    },
    {
     "data": {
      "text/plain": [
       "RandomizedSearchCV(cv=5, error_score=nan,\n",
       "                   estimator=DecisionTreeClassifier(ccp_alpha=0.0,\n",
       "                                                    class_weight=None,\n",
       "                                                    criterion='gini',\n",
       "                                                    max_depth=None,\n",
       "                                                    max_features=None,\n",
       "                                                    max_leaf_nodes=None,\n",
       "                                                    min_impurity_decrease=0.0,\n",
       "                                                    min_impurity_split=None,\n",
       "                                                    min_samples_leaf=1,\n",
       "                                                    min_samples_split=2,\n",
       "                                                    min_weight_fraction_leaf=0.0,\n",
       "                                                    presort='deprecated',\n",
       "                                                    random_state=2020,\n",
       "                                                    splitter='best'),\n",
       "                   i...eprecated', n_iter=100, n_jobs=8,\n",
       "                   param_distributions={'ccp_alpha': <scipy.stats._distn_infrastructure.rv_frozen object at 0x7facabf435c0>,\n",
       "                                        'criterion': ['gini', 'entropy'],\n",
       "                                        'max_depth': <scipy.stats._distn_infrastructure.rv_frozen object at 0x7facabf43630>},\n",
       "                   pre_dispatch='2*n_jobs', random_state=2020, refit=True,\n",
       "                   return_train_score=False, scoring='roc_auc', verbose=1)"
      ]
     },
     "execution_count": 38,
     "metadata": {},
     "output_type": "execute_result"
    }
   ],
   "source": [
    "clf_tree_rnd.fit(X_train_5, y_train_5)"
   ]
  },
  {
   "cell_type": "code",
   "execution_count": 39,
   "metadata": {},
   "outputs": [
    {
     "name": "stdout",
     "output_type": "stream",
     "text": [
      "Meilleurs paramètres: {'ccp_alpha': 0.0019415783974619204, 'criterion': 'entropy', 'max_depth': 53}\n",
      "Meilleur score (mean CV): 0.8474498250099778\n"
     ]
    }
   ],
   "source": [
    "print(f'Meilleurs paramètres: {clf_tree_rnd.best_params_}')\n",
    "print(f'Meilleur score (mean CV): {clf_tree_rnd.best_score_}')"
   ]
  },
  {
   "cell_type": "markdown",
   "metadata": {},
   "source": [
    "#### Aire sous la courbe"
   ]
  },
  {
   "cell_type": "code",
   "execution_count": 40,
   "metadata": {},
   "outputs": [
    {
     "name": "stdout",
     "output_type": "stream",
     "text": [
      "AUC = 0.8841048623722089\n"
     ]
    }
   ],
   "source": [
    "y_train_pred_proba_tree = clf_tree_rnd.best_estimator_.predict_proba(X_train_5)[:,1]\n",
    "print(f'AUC = {roc_auc_score(y_train_5, y_train_pred_proba_tree)}')"
   ]
  },
  {
   "cell_type": "markdown",
   "metadata": {},
   "source": [
    "#### Courbe ROC"
   ]
  },
  {
   "cell_type": "code",
   "execution_count": 41,
   "metadata": {},
   "outputs": [
    {
     "data": {
      "image/png": "[encoded data removed]",
      "text/plain": [
       "<Figure size 864x864 with 1 Axes>"
      ]
     },
     "metadata": {
      "needs_background": "light"
     },
     "output_type": "display_data"
    }
   ],
   "source": [
    "results['Decision Tree'] = y_train_pred_proba_tree\n",
    "plot_roc_curve(results, y_train_5)"
   ]
  },
  {
   "cell_type": "markdown",
   "metadata": {},
   "source": [
    "### 3-3 - Bagging"
   ]
  },
  {
   "cell_type": "code",
   "execution_count": 42,
   "metadata": {},
   "outputs": [],
   "source": [
    "# Distributions des paramètres\n",
    "distributions = dict(\n",
    "    n_estimators=randint(2, 100))\n",
    "\n",
    "# Estimateur\n",
    "clf_bag = BaggingClassifier(base_estimator=clf_tree_rnd.best_estimator_, random_state=2020)\n",
    "\n",
    "# Recherche aléatoire avec validation croisée\n",
    "clf_bag_rnd = RandomizedSearchCV(clf_bag, distributions, n_iter=100, cv=5, scoring=\"roc_auc\", verbose=1, n_jobs=8, random_state=2020)"
   ]
  },
  {
   "cell_type": "code",
   "execution_count": 43,
   "metadata": {},
   "outputs": [
    {
     "name": "stdout",
     "output_type": "stream",
     "text": [
      "Fitting 5 folds for each of 100 candidates, totalling 500 fits\n"
     ]
    },
    {
     "name": "stderr",
     "output_type": "stream",
     "text": [
      "[Parallel(n_jobs=8)]: Using backend LokyBackend with 8 concurrent workers.\n",
      "[Parallel(n_jobs=8)]: Done  34 tasks      | elapsed:   36.1s\n",
      "[Parallel(n_jobs=8)]: Done 184 tasks      | elapsed:  2.5min\n",
      "[Parallel(n_jobs=8)]: Done 434 tasks      | elapsed:  6.0min\n",
      "[Parallel(n_jobs=8)]: Done 500 out of 500 | elapsed:  6.6min finished\n"
     ]
    },
    {
     "data": {
      "text/plain": [
       "RandomizedSearchCV(cv=5, error_score=nan,\n",
       "                   estimator=BaggingClassifier(base_estimator=DecisionTreeClassifier(ccp_alpha=0.0019415783974619204,\n",
       "                                                                                     class_weight=None,\n",
       "                                                                                     criterion='entropy',\n",
       "                                                                                     max_depth=53,\n",
       "                                                                                     max_features=None,\n",
       "                                                                                     max_leaf_nodes=None,\n",
       "                                                                                     min_impurity_decrease=0.0,\n",
       "                                                                                     min_impurity_split=None,\n",
       "                                                                                     min_samples_leaf=1,\n",
       "                                                                                     min_samples_split=2,\n",
       "                                                                                     min_weight_fraction_leaf=0.0,\n",
       "                                                                                     preso...\n",
       "                                               max_samples=1.0, n_estimators=10,\n",
       "                                               n_jobs=None, oob_score=False,\n",
       "                                               random_state=2020, verbose=0,\n",
       "                                               warm_start=False),\n",
       "                   iid='deprecated', n_iter=100, n_jobs=8,\n",
       "                   param_distributions={'n_estimators': <scipy.stats._distn_infrastructure.rv_frozen object at 0x7facae763cc0>},\n",
       "                   pre_dispatch='2*n_jobs', random_state=2020, refit=True,\n",
       "                   return_train_score=False, scoring='roc_auc', verbose=1)"
      ]
     },
     "execution_count": 43,
     "metadata": {},
     "output_type": "execute_result"
    }
   ],
   "source": [
    "clf_bag_rnd.fit(X_train_5, y_train_5)"
   ]
  },
  {
   "cell_type": "code",
   "execution_count": 44,
   "metadata": {},
   "outputs": [
    {
     "name": "stdout",
     "output_type": "stream",
     "text": [
      "Meilleurs paramètres: {'n_estimators': 77}\n",
      "Meilleur score (mean CV): 0.8750826220096053\n"
     ]
    }
   ],
   "source": [
    "print(f'Meilleurs paramètres: {clf_bag_rnd.best_params_}')\n",
    "print(f'Meilleur score (mean CV): {clf_bag_rnd.best_score_}')"
   ]
  },
  {
   "cell_type": "markdown",
   "metadata": {},
   "source": [
    "#### Aire sous la courbe"
   ]
  },
  {
   "cell_type": "code",
   "execution_count": 45,
   "metadata": {},
   "outputs": [
    {
     "name": "stdout",
     "output_type": "stream",
     "text": [
      "AUC = 0.958611037547081\n"
     ]
    }
   ],
   "source": [
    "y_train_pred_proba_bag_5 = clf_bag_rnd.best_estimator_.predict_proba(X_train_5)[:,1]\n",
    "print(f'AUC = {roc_auc_score(y_train_5, y_train_pred_proba_bag_5)}')"
   ]
  },
  {
   "cell_type": "code",
   "execution_count": 46,
   "metadata": {},
   "outputs": [],
   "source": [
    "best_model_gb = clf_bag_rnd"
   ]
  },
  {
   "cell_type": "markdown",
   "metadata": {},
   "source": [
    "#### Courbe ROC"
   ]
  },
  {
   "cell_type": "code",
   "execution_count": 47,
   "metadata": {},
   "outputs": [
    {
     "data": {
      "image/png": "[encoded data removed]",
      "text/plain": [
       "<Figure size 864x864 with 1 Axes>"
      ]
     },
     "metadata": {
      "needs_background": "light"
     },
     "output_type": "display_data"
    }
   ],
   "source": [
    "results['Bagging (Tree) 5% dataset'] = y_train_pred_proba_bag_5\n",
    "plot_roc_curve(results, y_train_5)"
   ]
  },
  {
   "cell_type": "markdown",
   "metadata": {},
   "source": [
    "Sur notre jeu échantillon de 5%, nous opterons pour le Bagging Tree , pour sa meilleure\n",
    "performance comme le montre la courbe ROC ci-dessous.\n",
    "Augmentons graduellement nos données avec le Bagging Tree."
   ]
  },
  {
   "cell_type": "markdown",
   "metadata": {},
   "source": [
    "## Entrainement final avec Bagging Tree"
   ]
  },
  {
   "cell_type": "markdown",
   "metadata": {},
   "source": [
    "### 6% du dataset (5972 observations)"
   ]
  },
  {
   "cell_type": "code",
   "execution_count": 48,
   "metadata": {},
   "outputs": [],
   "source": [
    "X_train_6 = subset(df_scaled, 0.06)\n",
    "y_train_6 = subset(y, 0.06)"
   ]
  },
  {
   "cell_type": "code",
   "execution_count": 49,
   "metadata": {},
   "outputs": [
    {
     "data": {
      "text/plain": [
       "(5972,)"
      ]
     },
     "execution_count": 49,
     "metadata": {},
     "output_type": "execute_result"
    }
   ],
   "source": [
    "y_train_6.shape"
   ]
  },
  {
   "cell_type": "code",
   "execution_count": 50,
   "metadata": {},
   "outputs": [],
   "source": [
    "# Recherche aléatoire avec validation croisée\n",
    "clf6_bag_rnd = RandomizedSearchCV(clf_bag, distributions, n_iter=100, cv=5, scoring=\"roc_auc\", verbose=1, n_jobs=8, random_state=2020)"
   ]
  },
  {
   "cell_type": "code",
   "execution_count": 51,
   "metadata": {},
   "outputs": [
    {
     "name": "stdout",
     "output_type": "stream",
     "text": [
      "Fitting 5 folds for each of 100 candidates, totalling 500 fits\n"
     ]
    },
    {
     "name": "stderr",
     "output_type": "stream",
     "text": [
      "[Parallel(n_jobs=8)]: Using backend LokyBackend with 8 concurrent workers.\n",
      "[Parallel(n_jobs=8)]: Done  34 tasks      | elapsed:   42.1s\n",
      "[Parallel(n_jobs=8)]: Done 184 tasks      | elapsed:  3.1min\n",
      "[Parallel(n_jobs=8)]: Done 434 tasks      | elapsed:  7.1min\n",
      "[Parallel(n_jobs=8)]: Done 500 out of 500 | elapsed:  7.9min finished\n"
     ]
    },
    {
     "data": {
      "text/plain": [
       "RandomizedSearchCV(cv=5, error_score=nan,\n",
       "                   estimator=BaggingClassifier(base_estimator=DecisionTreeClassifier(ccp_alpha=0.0019415783974619204,\n",
       "                                                                                     class_weight=None,\n",
       "                                                                                     criterion='entropy',\n",
       "                                                                                     max_depth=53,\n",
       "                                                                                     max_features=None,\n",
       "                                                                                     max_leaf_nodes=None,\n",
       "                                                                                     min_impurity_decrease=0.0,\n",
       "                                                                                     min_impurity_split=None,\n",
       "                                                                                     min_samples_leaf=1,\n",
       "                                                                                     min_samples_split=2,\n",
       "                                                                                     min_weight_fraction_leaf=0.0,\n",
       "                                                                                     preso...\n",
       "                                               max_samples=1.0, n_estimators=10,\n",
       "                                               n_jobs=None, oob_score=False,\n",
       "                                               random_state=2020, verbose=0,\n",
       "                                               warm_start=False),\n",
       "                   iid='deprecated', n_iter=100, n_jobs=8,\n",
       "                   param_distributions={'n_estimators': <scipy.stats._distn_infrastructure.rv_frozen object at 0x7facae763cc0>},\n",
       "                   pre_dispatch='2*n_jobs', random_state=2020, refit=True,\n",
       "                   return_train_score=False, scoring='roc_auc', verbose=1)"
      ]
     },
     "execution_count": 51,
     "metadata": {},
     "output_type": "execute_result"
    }
   ],
   "source": [
    "clf6_bag_rnd.fit(X_train_6, y_train_6)"
   ]
  },
  {
   "cell_type": "code",
   "execution_count": 52,
   "metadata": {},
   "outputs": [
    {
     "name": "stdout",
     "output_type": "stream",
     "text": [
      "Meilleurs paramètres: {'n_estimators': 96}\n",
      "Meilleur score (mean CV): 0.865240054450848\n"
     ]
    }
   ],
   "source": [
    "print(f'Meilleurs paramètres: {clf6_bag_rnd.best_params_}')\n",
    "print(f'Meilleur score (mean CV): {clf6_bag_rnd.best_score_}')"
   ]
  },
  {
   "cell_type": "markdown",
   "metadata": {},
   "source": [
    "#### Aire sous la courbe"
   ]
  },
  {
   "cell_type": "code",
   "execution_count": 53,
   "metadata": {},
   "outputs": [
    {
     "name": "stdout",
     "output_type": "stream",
     "text": [
      "AUC = 0.9390329634100816\n"
     ]
    }
   ],
   "source": [
    "y_train_pred_proba_bag_6 = clf6_bag_rnd.best_estimator_.predict_proba(X_train_6)[:,1]\n",
    "print(f'AUC = {roc_auc_score(y_train_6, y_train_pred_proba_bag_6)}')"
   ]
  },
  {
   "cell_type": "markdown",
   "metadata": {},
   "source": [
    "#### Courbe ROC"
   ]
  },
  {
   "cell_type": "code",
   "execution_count": 54,
   "metadata": {},
   "outputs": [
    {
     "data": {
      "image/png": "[encoded data removed]",
      "text/plain": [
       "<Figure size 864x864 with 1 Axes>"
      ]
     },
     "metadata": {
      "needs_background": "light"
     },
     "output_type": "display_data"
    }
   ],
   "source": [
    "results_6 = {}\n",
    "results_6['Bagging (Tree) 6% dataset'] = y_train_pred_proba_bag_6\n",
    "plot_roc_curve(results_6, y_train_6)"
   ]
  },
  {
   "cell_type": "markdown",
   "metadata": {},
   "source": [
    "### 7% du dataset (6967 observations)"
   ]
  },
  {
   "cell_type": "code",
   "execution_count": 55,
   "metadata": {},
   "outputs": [],
   "source": [
    "X_train_7 = subset(df_scaled, 0.07)\n",
    "y_train_7 = subset(y, 0.07)"
   ]
  },
  {
   "cell_type": "code",
   "execution_count": 56,
   "metadata": {},
   "outputs": [
    {
     "data": {
      "text/plain": [
       "(6967, 16)"
      ]
     },
     "execution_count": 56,
     "metadata": {},
     "output_type": "execute_result"
    }
   ],
   "source": [
    "X_train_7.shape"
   ]
  },
  {
   "cell_type": "code",
   "execution_count": 57,
   "metadata": {},
   "outputs": [],
   "source": [
    "# Recherche aléatoire avec validation croisée\n",
    "clf7_bag_rnd = RandomizedSearchCV(clf_bag, distributions, n_iter=100, cv=5, scoring=\"roc_auc\", verbose=1, n_jobs=8, random_state=2020)"
   ]
  },
  {
   "cell_type": "code",
   "execution_count": 58,
   "metadata": {},
   "outputs": [
    {
     "name": "stdout",
     "output_type": "stream",
     "text": [
      "Fitting 5 folds for each of 100 candidates, totalling 500 fits\n"
     ]
    },
    {
     "name": "stderr",
     "output_type": "stream",
     "text": [
      "[Parallel(n_jobs=8)]: Using backend LokyBackend with 8 concurrent workers.\n",
      "[Parallel(n_jobs=8)]: Done  34 tasks      | elapsed:   50.3s\n",
      "[Parallel(n_jobs=8)]: Done 184 tasks      | elapsed:  3.7min\n",
      "[Parallel(n_jobs=8)]: Done 434 tasks      | elapsed:  8.7min\n",
      "[Parallel(n_jobs=8)]: Done 500 out of 500 | elapsed:  9.7min finished\n"
     ]
    },
    {
     "data": {
      "text/plain": [
       "RandomizedSearchCV(cv=5, error_score=nan,\n",
       "                   estimator=BaggingClassifier(base_estimator=DecisionTreeClassifier(ccp_alpha=0.0019415783974619204,\n",
       "                                                                                     class_weight=None,\n",
       "                                                                                     criterion='entropy',\n",
       "                                                                                     max_depth=53,\n",
       "                                                                                     max_features=None,\n",
       "                                                                                     max_leaf_nodes=None,\n",
       "                                                                                     min_impurity_decrease=0.0,\n",
       "                                                                                     min_impurity_split=None,\n",
       "                                                                                     min_samples_leaf=1,\n",
       "                                                                                     min_samples_split=2,\n",
       "                                                                                     min_weight_fraction_leaf=0.0,\n",
       "                                                                                     preso...\n",
       "                                               max_samples=1.0, n_estimators=10,\n",
       "                                               n_jobs=None, oob_score=False,\n",
       "                                               random_state=2020, verbose=0,\n",
       "                                               warm_start=False),\n",
       "                   iid='deprecated', n_iter=100, n_jobs=8,\n",
       "                   param_distributions={'n_estimators': <scipy.stats._distn_infrastructure.rv_frozen object at 0x7facae763cc0>},\n",
       "                   pre_dispatch='2*n_jobs', random_state=2020, refit=True,\n",
       "                   return_train_score=False, scoring='roc_auc', verbose=1)"
      ]
     },
     "execution_count": 58,
     "metadata": {},
     "output_type": "execute_result"
    }
   ],
   "source": [
    "clf7_bag_rnd.fit(X_train_7, y_train_7)"
   ]
  },
  {
   "cell_type": "code",
   "execution_count": 59,
   "metadata": {},
   "outputs": [
    {
     "name": "stdout",
     "output_type": "stream",
     "text": [
      "Meilleurs paramètres: {'n_estimators': 91}\n",
      "Meilleur score (mean CV): 0.8816900589566705\n"
     ]
    }
   ],
   "source": [
    "print(f'Meilleurs paramètres: {clf7_bag_rnd.best_params_}')\n",
    "print(f'Meilleur score (mean CV): {clf7_bag_rnd.best_score_}')"
   ]
  },
  {
   "cell_type": "markdown",
   "metadata": {},
   "source": [
    "#### Aire sous la courbe"
   ]
  },
  {
   "cell_type": "code",
   "execution_count": 60,
   "metadata": {},
   "outputs": [
    {
     "name": "stdout",
     "output_type": "stream",
     "text": [
      "AUC = 0.9212810771071793\n"
     ]
    }
   ],
   "source": [
    "y_train_pred_proba_bag_7 = clf7_bag_rnd.best_estimator_.predict_proba(X_train_7)[:,1]\n",
    "print(f'AUC = {roc_auc_score(y_train_7, y_train_pred_proba_bag_7)}')"
   ]
  },
  {
   "cell_type": "markdown",
   "metadata": {},
   "source": [
    "#### Courbe ROC"
   ]
  },
  {
   "cell_type": "code",
   "execution_count": 61,
   "metadata": {},
   "outputs": [
    {
     "data": {
      "image/png": "[encoded data removed]",
      "text/plain": [
       "<Figure size 864x864 with 1 Axes>"
      ]
     },
     "metadata": {
      "needs_background": "light"
     },
     "output_type": "display_data"
    }
   ],
   "source": [
    "results_7 = {}\n",
    "results_7['Bagging (Tree) 7% dataset'] = y_train_pred_proba_bag_7\n",
    "plot_roc_curve(results_7, y_train_7)"
   ]
  },
  {
   "cell_type": "markdown",
   "metadata": {},
   "source": [
    "### 8% du dataset (7962 observations)"
   ]
  },
  {
   "cell_type": "code",
   "execution_count": 62,
   "metadata": {},
   "outputs": [],
   "source": [
    "X_train_8 = subset(df_scaled, 0.08)\n",
    "y_train_8 = subset(y, 0.08)"
   ]
  },
  {
   "cell_type": "code",
   "execution_count": 63,
   "metadata": {},
   "outputs": [
    {
     "data": {
      "text/plain": [
       "(7962, 16)"
      ]
     },
     "execution_count": 63,
     "metadata": {},
     "output_type": "execute_result"
    }
   ],
   "source": [
    "X_train_8.shape"
   ]
  },
  {
   "cell_type": "code",
   "execution_count": 64,
   "metadata": {},
   "outputs": [],
   "source": [
    "# Recherche aléatoire avec validation croisée\n",
    "clf8_bag_rnd = RandomizedSearchCV(clf_bag, distributions, n_iter=100, cv=5, scoring=\"roc_auc\", verbose=1, n_jobs=8, random_state=2020)"
   ]
  },
  {
   "cell_type": "code",
   "execution_count": 65,
   "metadata": {},
   "outputs": [
    {
     "name": "stdout",
     "output_type": "stream",
     "text": [
      "Fitting 5 folds for each of 100 candidates, totalling 500 fits\n"
     ]
    },
    {
     "name": "stderr",
     "output_type": "stream",
     "text": [
      "[Parallel(n_jobs=8)]: Using backend LokyBackend with 8 concurrent workers.\n",
      "[Parallel(n_jobs=8)]: Done  34 tasks      | elapsed:  1.1min\n",
      "[Parallel(n_jobs=8)]: Done 184 tasks      | elapsed:  4.3min\n",
      "[Parallel(n_jobs=8)]: Done 434 tasks      | elapsed: 10.2min\n",
      "[Parallel(n_jobs=8)]: Done 500 out of 500 | elapsed: 11.4min finished\n"
     ]
    },
    {
     "data": {
      "text/plain": [
       "RandomizedSearchCV(cv=5, error_score=nan,\n",
       "                   estimator=BaggingClassifier(base_estimator=DecisionTreeClassifier(ccp_alpha=0.0019415783974619204,\n",
       "                                                                                     class_weight=None,\n",
       "                                                                                     criterion='entropy',\n",
       "                                                                                     max_depth=53,\n",
       "                                                                                     max_features=None,\n",
       "                                                                                     max_leaf_nodes=None,\n",
       "                                                                                     min_impurity_decrease=0.0,\n",
       "                                                                                     min_impurity_split=None,\n",
       "                                                                                     min_samples_leaf=1,\n",
       "                                                                                     min_samples_split=2,\n",
       "                                                                                     min_weight_fraction_leaf=0.0,\n",
       "                                                                                     preso...\n",
       "                                               max_samples=1.0, n_estimators=10,\n",
       "                                               n_jobs=None, oob_score=False,\n",
       "                                               random_state=2020, verbose=0,\n",
       "                                               warm_start=False),\n",
       "                   iid='deprecated', n_iter=100, n_jobs=8,\n",
       "                   param_distributions={'n_estimators': <scipy.stats._distn_infrastructure.rv_frozen object at 0x7facae763cc0>},\n",
       "                   pre_dispatch='2*n_jobs', random_state=2020, refit=True,\n",
       "                   return_train_score=False, scoring='roc_auc', verbose=1)"
      ]
     },
     "execution_count": 65,
     "metadata": {},
     "output_type": "execute_result"
    }
   ],
   "source": [
    "clf8_bag_rnd.fit(X_train_8, y_train_8)"
   ]
  },
  {
   "cell_type": "code",
   "execution_count": 66,
   "metadata": {},
   "outputs": [
    {
     "name": "stdout",
     "output_type": "stream",
     "text": [
      "Meilleurs paramètres: {'n_estimators': 71}\n",
      "Meilleur score (mean CV): 0.8648390883297639\n"
     ]
    }
   ],
   "source": [
    "print(f'Meilleurs paramètres: {clf8_bag_rnd.best_params_}')\n",
    "print(f'Meilleur score (mean CV): {clf8_bag_rnd.best_score_}')"
   ]
  },
  {
   "cell_type": "markdown",
   "metadata": {},
   "source": [
    "#### Aire sous la courbe"
   ]
  },
  {
   "cell_type": "code",
   "execution_count": 67,
   "metadata": {},
   "outputs": [
    {
     "name": "stdout",
     "output_type": "stream",
     "text": [
      "AUC = 0.9053376984438856\n"
     ]
    }
   ],
   "source": [
    "y_train_pred_proba_bag_8 = clf8_bag_rnd.best_estimator_.predict_proba(X_train_8)[:,1]\n",
    "print(f'AUC = {roc_auc_score(y_train_8, y_train_pred_proba_bag_8)}')"
   ]
  },
  {
   "cell_type": "markdown",
   "metadata": {},
   "source": [
    "#### Courbe ROC"
   ]
  },
  {
   "cell_type": "code",
   "execution_count": 68,
   "metadata": {},
   "outputs": [
    {
     "data": {
      "image/png": "[encoded data removed]",
      "text/plain": [
       "<Figure size 864x864 with 1 Axes>"
      ]
     },
     "metadata": {
      "needs_background": "light"
     },
     "output_type": "display_data"
    }
   ],
   "source": [
    "results_8 = {}\n",
    "results_8['Bagging (Tree) 8% dataset'] = y_train_pred_proba_bag_8\n",
    "plot_roc_curve(results_8, y_train_8)"
   ]
  },
  {
   "cell_type": "markdown",
   "metadata": {},
   "source": [
    "### 9% du dataset (8958 observations)"
   ]
  },
  {
   "cell_type": "code",
   "execution_count": 69,
   "metadata": {},
   "outputs": [],
   "source": [
    "X_train_9 = subset(df_scaled, 0.09)\n",
    "y_train_9 = subset(y, 0.09)"
   ]
  },
  {
   "cell_type": "code",
   "execution_count": 70,
   "metadata": {},
   "outputs": [
    {
     "data": {
      "text/plain": [
       "(8958, 16)"
      ]
     },
     "execution_count": 70,
     "metadata": {},
     "output_type": "execute_result"
    }
   ],
   "source": [
    "X_train_9.shape"
   ]
  },
  {
   "cell_type": "code",
   "execution_count": 71,
   "metadata": {},
   "outputs": [],
   "source": [
    "# Recherche aléatoire avec validation croisée\n",
    "clf9_bag_rnd = RandomizedSearchCV(clf_bag, distributions, n_iter=100, cv=5, scoring=\"roc_auc\", verbose=1, n_jobs=8, random_state=2020)"
   ]
  },
  {
   "cell_type": "code",
   "execution_count": 72,
   "metadata": {},
   "outputs": [
    {
     "name": "stdout",
     "output_type": "stream",
     "text": [
      "Fitting 5 folds for each of 100 candidates, totalling 500 fits\n"
     ]
    },
    {
     "name": "stderr",
     "output_type": "stream",
     "text": [
      "[Parallel(n_jobs=8)]: Using backend LokyBackend with 8 concurrent workers.\n",
      "[Parallel(n_jobs=8)]: Done  34 tasks      | elapsed:  1.2min\n",
      "[Parallel(n_jobs=8)]: Done 184 tasks      | elapsed:  5.0min\n",
      "[Parallel(n_jobs=8)]: Done 434 tasks      | elapsed: 11.7min\n",
      "[Parallel(n_jobs=8)]: Done 500 out of 500 | elapsed: 13.0min finished\n"
     ]
    },
    {
     "data": {
      "text/plain": [
       "RandomizedSearchCV(cv=5, error_score=nan,\n",
       "                   estimator=BaggingClassifier(base_estimator=DecisionTreeClassifier(ccp_alpha=0.0019415783974619204,\n",
       "                                                                                     class_weight=None,\n",
       "                                                                                     criterion='entropy',\n",
       "                                                                                     max_depth=53,\n",
       "                                                                                     max_features=None,\n",
       "                                                                                     max_leaf_nodes=None,\n",
       "                                                                                     min_impurity_decrease=0.0,\n",
       "                                                                                     min_impurity_split=None,\n",
       "                                                                                     min_samples_leaf=1,\n",
       "                                                                                     min_samples_split=2,\n",
       "                                                                                     min_weight_fraction_leaf=0.0,\n",
       "                                                                                     preso...\n",
       "                                               max_samples=1.0, n_estimators=10,\n",
       "                                               n_jobs=None, oob_score=False,\n",
       "                                               random_state=2020, verbose=0,\n",
       "                                               warm_start=False),\n",
       "                   iid='deprecated', n_iter=100, n_jobs=8,\n",
       "                   param_distributions={'n_estimators': <scipy.stats._distn_infrastructure.rv_frozen object at 0x7facae763cc0>},\n",
       "                   pre_dispatch='2*n_jobs', random_state=2020, refit=True,\n",
       "                   return_train_score=False, scoring='roc_auc', verbose=1)"
      ]
     },
     "execution_count": 72,
     "metadata": {},
     "output_type": "execute_result"
    }
   ],
   "source": [
    "clf9_bag_rnd.fit(X_train_9, y_train_9)"
   ]
  },
  {
   "cell_type": "code",
   "execution_count": 73,
   "metadata": {},
   "outputs": [
    {
     "name": "stdout",
     "output_type": "stream",
     "text": [
      "Meilleurs paramètres: {'n_estimators': 98}\n",
      "Meilleur score (mean CV): 0.8746935655343396\n"
     ]
    }
   ],
   "source": [
    "print(f'Meilleurs paramètres: {clf9_bag_rnd.best_params_}')\n",
    "print(f'Meilleur score (mean CV): {clf9_bag_rnd.best_score_}')"
   ]
  },
  {
   "cell_type": "markdown",
   "metadata": {},
   "source": [
    "#### Aire sous la courbe"
   ]
  },
  {
   "cell_type": "code",
   "execution_count": 74,
   "metadata": {},
   "outputs": [
    {
     "name": "stdout",
     "output_type": "stream",
     "text": [
      "AUC = 0.9001711371891589\n"
     ]
    }
   ],
   "source": [
    "y_train_pred_proba_bag_9 = clf9_bag_rnd.best_estimator_.predict_proba(X_train_9)[:,1]\n",
    "print(f'AUC = {roc_auc_score(y_train_9, y_train_pred_proba_bag_9)}')"
   ]
  },
  {
   "cell_type": "markdown",
   "metadata": {},
   "source": [
    "#### Courbe ROC"
   ]
  },
  {
   "cell_type": "code",
   "execution_count": 75,
   "metadata": {},
   "outputs": [
    {
     "data": {
      "image/png": "[encoded data removed]",
      "text/plain": [
       "<Figure size 864x864 with 1 Axes>"
      ]
     },
     "metadata": {
      "needs_background": "light"
     },
     "output_type": "display_data"
    }
   ],
   "source": [
    "results_9 = {}\n",
    "results_9['Bagging (Tree) 9% dataset'] = y_train_pred_proba_bag_9\n",
    "plot_roc_curve(results_9, y_train_9)"
   ]
  },
  {
   "cell_type": "markdown",
   "metadata": {},
   "source": [
    "**Interpretation:** Après avoir trouvé notre meilleur modèle (Gradient Bossting) sur le jeu échantillon (5%), nous avons réentrainé le Gradient Bossting progressivement sur nos données (6%, 7%, 8%, 9%). Nous constations qu'il y a peu de variance du modèle en analysant le learning curve. Par conséquent nous avons stoppé et utilisé notre meilleur modèle Gradient Boosting trouvé à date."
   ]
  },
  {
   "cell_type": "markdown",
   "metadata": {},
   "source": [
    "# 5 - Persistence du meilleur modèle"
   ]
  },
  {
   "cell_type": "code",
   "execution_count": 76,
   "metadata": {},
   "outputs": [],
   "source": [
    "import pickle"
   ]
  },
  {
   "cell_type": "code",
   "execution_count": 77,
   "metadata": {},
   "outputs": [],
   "source": [
    "with open('best_model_joel_tp2.pkl', 'wb') as f:\n",
    "    pickle.dump(best_model_gb, f)"
   ]
  },
  {
   "cell_type": "markdown",
   "metadata": {},
   "source": [
    "# 6 - Chargement du meilleur modèle"
   ]
  },
  {
   "cell_type": "code",
   "execution_count": 78,
   "metadata": {},
   "outputs": [],
   "source": [
    "with open('best_model_joel_tp2.pkl', 'rb') as f:\n",
    "    best_model_gb = pickle.load(f)"
   ]
  },
  {
   "cell_type": "markdown",
   "metadata": {},
   "source": [
    "# 7 - Prédictions sur le jeu de test"
   ]
  },
  {
   "cell_type": "code",
   "execution_count": 79,
   "metadata": {},
   "outputs": [],
   "source": [
    "def prepare_data(df):\n",
    "    \"\"\"\n",
    "    Préparation et sélection manuelle des variables explicatives\n",
    "    \"\"\"\n",
    "    \n",
    "    dfp = pd.DataFrame()\n",
    "    \n",
    "    dfp['RainToday'] = (df['RainToday'] == \"Yes\").astype(int)\n",
    "    dfp['Temp3pm'] = df['Temp3pm']\n",
    "    dfp['Temp9am'] = df['Temp9am']\n",
    "    dfp['Cloud3pm'] = df['Cloud3pm']\n",
    "    dfp['Cloud9am'] = df['Cloud9am']\n",
    "    dfp['Pressure3pm'] = df['Pressure3pm']\n",
    "    dfp['Pressure9am'] = df['Pressure9am']\n",
    "    dfp['Humidity3pm'] = df['Humidity3pm']\n",
    "    dfp['Humidity9am'] = df['Humidity9am']\n",
    "    dfp['WindSpeed3pm'] = df['WindSpeed3pm']\n",
    "    dfp['WindGustSpeed'] = df['WindGustSpeed']\n",
    "    dfp['Sunshine'] = df['Sunshine']\n",
    "    dfp['Evaporation'] = df['Evaporation']\n",
    "    dfp['Rainfall'] = df['Rainfall']\n",
    "    dfp['MaxTemp'] = df['MaxTemp']\n",
    "    dfp['MinTemp'] = df['MinTemp']\n",
    "   \n",
    "            \n",
    "    assert dfp.columns.all(df.columns)\n",
    "    \n",
    "    return dfp"
   ]
  },
  {
   "cell_type": "code",
   "execution_count": 80,
   "metadata": {},
   "outputs": [],
   "source": [
    "AUS_test = pd.read_csv('AUS_test.csv', index_col=[0])"
   ]
  },
  {
   "cell_type": "code",
   "execution_count": 81,
   "metadata": {},
   "outputs": [
    {
     "data": {
      "text/html": [
       "<div>\n",
       "<style scoped>\n",
       "    .dataframe tbody tr th:only-of-type {\n",
       "        vertical-align: middle;\n",
       "    }\n",
       "\n",
       "    .dataframe tbody tr th {\n",
       "        vertical-align: top;\n",
       "    }\n",
       "\n",
       "    .dataframe thead th {\n",
       "        text-align: right;\n",
       "    }\n",
       "</style>\n",
       "<table border=\"1\" class=\"dataframe\">\n",
       "  <thead>\n",
       "    <tr style=\"text-align: right;\">\n",
       "      <th></th>\n",
       "      <th>Date</th>\n",
       "      <th>Location</th>\n",
       "      <th>MinTemp</th>\n",
       "      <th>MaxTemp</th>\n",
       "      <th>Rainfall</th>\n",
       "      <th>Evaporation</th>\n",
       "      <th>Sunshine</th>\n",
       "      <th>WindGustDir</th>\n",
       "      <th>WindGustSpeed</th>\n",
       "      <th>WindDir9am</th>\n",
       "      <th>...</th>\n",
       "      <th>WindSpeed3pm</th>\n",
       "      <th>Humidity9am</th>\n",
       "      <th>Humidity3pm</th>\n",
       "      <th>Pressure9am</th>\n",
       "      <th>Pressure3pm</th>\n",
       "      <th>Cloud9am</th>\n",
       "      <th>Cloud3pm</th>\n",
       "      <th>Temp9am</th>\n",
       "      <th>Temp3pm</th>\n",
       "      <th>RainToday</th>\n",
       "    </tr>\n",
       "  </thead>\n",
       "  <tbody>\n",
       "    <tr>\n",
       "      <th>1</th>\n",
       "      <td>2008-12-02</td>\n",
       "      <td>Albury</td>\n",
       "      <td>7.4</td>\n",
       "      <td>25.1</td>\n",
       "      <td>0.0</td>\n",
       "      <td>4.8</td>\n",
       "      <td>8.5</td>\n",
       "      <td>WNW</td>\n",
       "      <td>44.0</td>\n",
       "      <td>NNW</td>\n",
       "      <td>...</td>\n",
       "      <td>22.0</td>\n",
       "      <td>44.0</td>\n",
       "      <td>25.0</td>\n",
       "      <td>1010.6</td>\n",
       "      <td>1007.8</td>\n",
       "      <td>5.0</td>\n",
       "      <td>5.0</td>\n",
       "      <td>17.2</td>\n",
       "      <td>24.3</td>\n",
       "      <td>No</td>\n",
       "    </tr>\n",
       "    <tr>\n",
       "      <th>4</th>\n",
       "      <td>2008-12-05</td>\n",
       "      <td>Albury</td>\n",
       "      <td>17.5</td>\n",
       "      <td>32.3</td>\n",
       "      <td>1.0</td>\n",
       "      <td>4.8</td>\n",
       "      <td>8.5</td>\n",
       "      <td>W</td>\n",
       "      <td>41.0</td>\n",
       "      <td>ENE</td>\n",
       "      <td>...</td>\n",
       "      <td>20.0</td>\n",
       "      <td>82.0</td>\n",
       "      <td>33.0</td>\n",
       "      <td>1010.8</td>\n",
       "      <td>1006.0</td>\n",
       "      <td>7.0</td>\n",
       "      <td>8.0</td>\n",
       "      <td>17.8</td>\n",
       "      <td>29.7</td>\n",
       "      <td>No</td>\n",
       "    </tr>\n",
       "    <tr>\n",
       "      <th>8</th>\n",
       "      <td>2008-12-09</td>\n",
       "      <td>Albury</td>\n",
       "      <td>9.7</td>\n",
       "      <td>31.9</td>\n",
       "      <td>0.0</td>\n",
       "      <td>4.8</td>\n",
       "      <td>8.5</td>\n",
       "      <td>NNW</td>\n",
       "      <td>80.0</td>\n",
       "      <td>SE</td>\n",
       "      <td>...</td>\n",
       "      <td>28.0</td>\n",
       "      <td>42.0</td>\n",
       "      <td>9.0</td>\n",
       "      <td>1008.9</td>\n",
       "      <td>1003.6</td>\n",
       "      <td>5.0</td>\n",
       "      <td>5.0</td>\n",
       "      <td>18.3</td>\n",
       "      <td>30.2</td>\n",
       "      <td>No</td>\n",
       "    </tr>\n",
       "    <tr>\n",
       "      <th>14</th>\n",
       "      <td>2008-12-16</td>\n",
       "      <td>Albury</td>\n",
       "      <td>9.8</td>\n",
       "      <td>27.7</td>\n",
       "      <td>0.0</td>\n",
       "      <td>4.8</td>\n",
       "      <td>8.5</td>\n",
       "      <td>WNW</td>\n",
       "      <td>50.0</td>\n",
       "      <td>N</td>\n",
       "      <td>...</td>\n",
       "      <td>22.0</td>\n",
       "      <td>50.0</td>\n",
       "      <td>28.0</td>\n",
       "      <td>1013.4</td>\n",
       "      <td>1010.3</td>\n",
       "      <td>0.0</td>\n",
       "      <td>5.0</td>\n",
       "      <td>17.3</td>\n",
       "      <td>26.2</td>\n",
       "      <td>No</td>\n",
       "    </tr>\n",
       "    <tr>\n",
       "      <th>18</th>\n",
       "      <td>2008-12-20</td>\n",
       "      <td>Albury</td>\n",
       "      <td>9.8</td>\n",
       "      <td>25.6</td>\n",
       "      <td>0.0</td>\n",
       "      <td>4.8</td>\n",
       "      <td>8.5</td>\n",
       "      <td>SSE</td>\n",
       "      <td>26.0</td>\n",
       "      <td>SE</td>\n",
       "      <td>...</td>\n",
       "      <td>6.0</td>\n",
       "      <td>45.0</td>\n",
       "      <td>26.0</td>\n",
       "      <td>1019.2</td>\n",
       "      <td>1017.1</td>\n",
       "      <td>5.0</td>\n",
       "      <td>5.0</td>\n",
       "      <td>15.8</td>\n",
       "      <td>23.2</td>\n",
       "      <td>No</td>\n",
       "    </tr>\n",
       "  </tbody>\n",
       "</table>\n",
       "<p>5 rows × 22 columns</p>\n",
       "</div>"
      ],
      "text/plain": [
       "          Date Location  MinTemp  MaxTemp  Rainfall  Evaporation  Sunshine  \\\n",
       "1   2008-12-02   Albury      7.4     25.1       0.0          4.8       8.5   \n",
       "4   2008-12-05   Albury     17.5     32.3       1.0          4.8       8.5   \n",
       "8   2008-12-09   Albury      9.7     31.9       0.0          4.8       8.5   \n",
       "14  2008-12-16   Albury      9.8     27.7       0.0          4.8       8.5   \n",
       "18  2008-12-20   Albury      9.8     25.6       0.0          4.8       8.5   \n",
       "\n",
       "   WindGustDir  WindGustSpeed WindDir9am  ... WindSpeed3pm  Humidity9am  \\\n",
       "1          WNW           44.0        NNW  ...         22.0         44.0   \n",
       "4            W           41.0        ENE  ...         20.0         82.0   \n",
       "8          NNW           80.0         SE  ...         28.0         42.0   \n",
       "14         WNW           50.0          N  ...         22.0         50.0   \n",
       "18         SSE           26.0         SE  ...          6.0         45.0   \n",
       "\n",
       "    Humidity3pm  Pressure9am  Pressure3pm  Cloud9am  Cloud3pm  Temp9am  \\\n",
       "1          25.0       1010.6       1007.8       5.0       5.0     17.2   \n",
       "4          33.0       1010.8       1006.0       7.0       8.0     17.8   \n",
       "8           9.0       1008.9       1003.6       5.0       5.0     18.3   \n",
       "14         28.0       1013.4       1010.3       0.0       5.0     17.3   \n",
       "18         26.0       1019.2       1017.1       5.0       5.0     15.8   \n",
       "\n",
       "    Temp3pm  RainToday  \n",
       "1      24.3         No  \n",
       "4      29.7         No  \n",
       "8      30.2         No  \n",
       "14     26.2         No  \n",
       "18     23.2         No  \n",
       "\n",
       "[5 rows x 22 columns]"
      ]
     },
     "execution_count": 81,
     "metadata": {},
     "output_type": "execute_result"
    }
   ],
   "source": [
    "AUS_test.head()"
   ]
  },
  {
   "cell_type": "code",
   "execution_count": 82,
   "metadata": {},
   "outputs": [
    {
     "data": {
      "text/plain": [
       "Index(['Date', 'Location', 'MinTemp', 'MaxTemp', 'Rainfall', 'Evaporation',\n",
       "       'Sunshine', 'WindGustDir', 'WindGustSpeed', 'WindDir9am', 'WindDir3pm',\n",
       "       'WindSpeed9am', 'WindSpeed3pm', 'Humidity9am', 'Humidity3pm',\n",
       "       'Pressure9am', 'Pressure3pm', 'Cloud9am', 'Cloud3pm', 'Temp9am',\n",
       "       'Temp3pm', 'RainToday'],\n",
       "      dtype='object')"
      ]
     },
     "execution_count": 82,
     "metadata": {},
     "output_type": "execute_result"
    }
   ],
   "source": [
    "AUS_test.columns"
   ]
  },
  {
   "cell_type": "code",
   "execution_count": 83,
   "metadata": {},
   "outputs": [],
   "source": [
    "df_test = prepare_data(AUS_test)"
   ]
  },
  {
   "cell_type": "code",
   "execution_count": 84,
   "metadata": {},
   "outputs": [
    {
     "data": {
      "text/html": [
       "<div>\n",
       "<style scoped>\n",
       "    .dataframe tbody tr th:only-of-type {\n",
       "        vertical-align: middle;\n",
       "    }\n",
       "\n",
       "    .dataframe tbody tr th {\n",
       "        vertical-align: top;\n",
       "    }\n",
       "\n",
       "    .dataframe thead th {\n",
       "        text-align: right;\n",
       "    }\n",
       "</style>\n",
       "<table border=\"1\" class=\"dataframe\">\n",
       "  <thead>\n",
       "    <tr style=\"text-align: right;\">\n",
       "      <th></th>\n",
       "      <th>RainToday</th>\n",
       "      <th>Temp3pm</th>\n",
       "      <th>Temp9am</th>\n",
       "      <th>Cloud3pm</th>\n",
       "      <th>Cloud9am</th>\n",
       "      <th>Pressure3pm</th>\n",
       "      <th>Pressure9am</th>\n",
       "      <th>Humidity3pm</th>\n",
       "      <th>Humidity9am</th>\n",
       "      <th>WindSpeed3pm</th>\n",
       "      <th>WindGustSpeed</th>\n",
       "      <th>Sunshine</th>\n",
       "      <th>Evaporation</th>\n",
       "      <th>Rainfall</th>\n",
       "      <th>MaxTemp</th>\n",
       "      <th>MinTemp</th>\n",
       "    </tr>\n",
       "  </thead>\n",
       "  <tbody>\n",
       "    <tr>\n",
       "      <th>1</th>\n",
       "      <td>0</td>\n",
       "      <td>24.3</td>\n",
       "      <td>17.2</td>\n",
       "      <td>5.0</td>\n",
       "      <td>5.0</td>\n",
       "      <td>1007.8</td>\n",
       "      <td>1010.6</td>\n",
       "      <td>25.0</td>\n",
       "      <td>44.0</td>\n",
       "      <td>22.0</td>\n",
       "      <td>44.0</td>\n",
       "      <td>8.5</td>\n",
       "      <td>4.8</td>\n",
       "      <td>0.0</td>\n",
       "      <td>25.1</td>\n",
       "      <td>7.4</td>\n",
       "    </tr>\n",
       "    <tr>\n",
       "      <th>4</th>\n",
       "      <td>0</td>\n",
       "      <td>29.7</td>\n",
       "      <td>17.8</td>\n",
       "      <td>8.0</td>\n",
       "      <td>7.0</td>\n",
       "      <td>1006.0</td>\n",
       "      <td>1010.8</td>\n",
       "      <td>33.0</td>\n",
       "      <td>82.0</td>\n",
       "      <td>20.0</td>\n",
       "      <td>41.0</td>\n",
       "      <td>8.5</td>\n",
       "      <td>4.8</td>\n",
       "      <td>1.0</td>\n",
       "      <td>32.3</td>\n",
       "      <td>17.5</td>\n",
       "    </tr>\n",
       "    <tr>\n",
       "      <th>8</th>\n",
       "      <td>0</td>\n",
       "      <td>30.2</td>\n",
       "      <td>18.3</td>\n",
       "      <td>5.0</td>\n",
       "      <td>5.0</td>\n",
       "      <td>1003.6</td>\n",
       "      <td>1008.9</td>\n",
       "      <td>9.0</td>\n",
       "      <td>42.0</td>\n",
       "      <td>28.0</td>\n",
       "      <td>80.0</td>\n",
       "      <td>8.5</td>\n",
       "      <td>4.8</td>\n",
       "      <td>0.0</td>\n",
       "      <td>31.9</td>\n",
       "      <td>9.7</td>\n",
       "    </tr>\n",
       "    <tr>\n",
       "      <th>14</th>\n",
       "      <td>0</td>\n",
       "      <td>26.2</td>\n",
       "      <td>17.3</td>\n",
       "      <td>5.0</td>\n",
       "      <td>0.0</td>\n",
       "      <td>1010.3</td>\n",
       "      <td>1013.4</td>\n",
       "      <td>28.0</td>\n",
       "      <td>50.0</td>\n",
       "      <td>22.0</td>\n",
       "      <td>50.0</td>\n",
       "      <td>8.5</td>\n",
       "      <td>4.8</td>\n",
       "      <td>0.0</td>\n",
       "      <td>27.7</td>\n",
       "      <td>9.8</td>\n",
       "    </tr>\n",
       "    <tr>\n",
       "      <th>18</th>\n",
       "      <td>0</td>\n",
       "      <td>23.2</td>\n",
       "      <td>15.8</td>\n",
       "      <td>5.0</td>\n",
       "      <td>5.0</td>\n",
       "      <td>1017.1</td>\n",
       "      <td>1019.2</td>\n",
       "      <td>26.0</td>\n",
       "      <td>45.0</td>\n",
       "      <td>6.0</td>\n",
       "      <td>26.0</td>\n",
       "      <td>8.5</td>\n",
       "      <td>4.8</td>\n",
       "      <td>0.0</td>\n",
       "      <td>25.6</td>\n",
       "      <td>9.8</td>\n",
       "    </tr>\n",
       "  </tbody>\n",
       "</table>\n",
       "</div>"
      ],
      "text/plain": [
       "    RainToday  Temp3pm  Temp9am  Cloud3pm  Cloud9am  Pressure3pm  Pressure9am  \\\n",
       "1           0     24.3     17.2       5.0       5.0       1007.8       1010.6   \n",
       "4           0     29.7     17.8       8.0       7.0       1006.0       1010.8   \n",
       "8           0     30.2     18.3       5.0       5.0       1003.6       1008.9   \n",
       "14          0     26.2     17.3       5.0       0.0       1010.3       1013.4   \n",
       "18          0     23.2     15.8       5.0       5.0       1017.1       1019.2   \n",
       "\n",
       "    Humidity3pm  Humidity9am  WindSpeed3pm  WindGustSpeed  Sunshine  \\\n",
       "1          25.0         44.0          22.0           44.0       8.5   \n",
       "4          33.0         82.0          20.0           41.0       8.5   \n",
       "8           9.0         42.0          28.0           80.0       8.5   \n",
       "14         28.0         50.0          22.0           50.0       8.5   \n",
       "18         26.0         45.0           6.0           26.0       8.5   \n",
       "\n",
       "    Evaporation  Rainfall  MaxTemp  MinTemp  \n",
       "1           4.8       0.0     25.1      7.4  \n",
       "4           4.8       1.0     32.3     17.5  \n",
       "8           4.8       0.0     31.9      9.7  \n",
       "14          4.8       0.0     27.7      9.8  \n",
       "18          4.8       0.0     25.6      9.8  "
      ]
     },
     "execution_count": 84,
     "metadata": {},
     "output_type": "execute_result"
    }
   ],
   "source": [
    "df_test.head()"
   ]
  },
  {
   "cell_type": "code",
   "execution_count": 85,
   "metadata": {},
   "outputs": [],
   "source": [
    "#standardisation\n",
    "scaler.fit(df_test)\n",
    "df_test_scaled = scaler.transform(df_test)"
   ]
  },
  {
   "cell_type": "code",
   "execution_count": 86,
   "metadata": {},
   "outputs": [],
   "source": [
    "X_test = df_test_scaled\n",
    "y_pred_test = best_model_gb.predict_proba(X_test)"
   ]
  },
  {
   "cell_type": "code",
   "execution_count": 87,
   "metadata": {},
   "outputs": [],
   "source": [
    "AUS_test['y_pred_test'] = y_pred_test[:,1]"
   ]
  },
  {
   "cell_type": "code",
   "execution_count": 88,
   "metadata": {},
   "outputs": [],
   "source": [
    "AUS_test.to_csv('output.csv', columns=['y_pred_test'])"
   ]
  },
  {
   "cell_type": "markdown",
   "metadata": {},
   "source": [
    "**FIN**"
   ]
  }
 ],
 "metadata": {
  "kernelspec": {
   "display_name": "Python 3",
   "language": "python",
   "name": "python3"
  },
  "language_info": {
   "codemirror_mode": {
    "name": "ipython",
    "version": 3
   },
   "file_extension": ".py",
   "mimetype": "text/x-python",
   "name": "python",
   "nbconvert_exporter": "python",
   "pygments_lexer": "ipython3",
   "version": "3.6.9"
  }
 },
 "nbformat": 4,
 "nbformat_minor": 4
}
